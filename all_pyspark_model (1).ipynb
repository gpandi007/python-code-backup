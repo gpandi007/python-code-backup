{
 "cells": [
  {
   "cell_type": "code",
   "execution_count": 1,
   "metadata": {},
   "outputs": [
    {
     "name": "stderr",
     "output_type": "stream",
     "text": [
      "/home/smicro/.local/lib/python3.6/site-packages/pyspark/context.py:238: FutureWarning: Python 3.6 support is deprecated in Spark 3.2.\n",
      "  FutureWarning\n",
      "/home/smicro/.local/lib/python3.6/site-packages/pyspark/sql/context.py:79: FutureWarning: Deprecated in 3.0.0. Use SparkSession.builder.getOrCreate() instead.\n",
      "  FutureWarning\n"
     ]
    }
   ],
   "source": [
    "#STEP-1 Import libraries \n",
    "import numpy as np\n",
    "import numpy as np\n",
    "import pandas as pd \n",
    "import numpy as np\n",
    "from sklearn.preprocessing import QuantileTransformer\n",
    "from sklearn.metrics import roc_auc_score\n",
    "from sklearn.metrics import roc_curve\n",
    "from sklearn.datasets import load_breast_cancer\n",
    "from numpy import int64\n",
    "from sklearn import svm\n",
    "from sklearn.svm import SVC \n",
    "import matplotlib.pyplot as plt\n",
    "from matplotlib import rcParams\n",
    "from sklearn.preprocessing import StandardScaler\n",
    "from sklearn.model_selection import train_test_split\n",
    "import seaborn as sns\n",
    "import matplotlib.pyplot as plt\n",
    "from xgboost import XGBClassifier\n",
    "import xgboost\n",
    "from sklearn.naive_bayes import GaussianNB\n",
    "from sklearn.neighbors import KNeighborsClassifier\n",
    "from sklearn.model_selection import train_test_split\n",
    "from sklearn.datasets import load_iris\n",
    "from sklearn.metrics import classification_report, accuracy_score  \n",
    "from sklearn.metrics import precision_score, recall_score \n",
    "from sklearn.metrics import f1_score, matthews_corrcoef \n",
    "from sklearn.metrics import confusion_matrix \n",
    "from pyhive import hive\n",
    "#from impala.dbapi import connect\n",
    "from hdfs import InsecureClient\n",
    "from pyhive import hive\n",
    "import pandas as pd\n",
    "from scipy import stats\n",
    "from sklearn.utils import resample\n",
    "import numpy as np\n",
    "import pandas as pd\n",
    "from mpl_toolkits.mplot3d import Axes3D\n",
    "from sklearn.preprocessing import StandardScaler\n",
    "import matplotlib.pyplot as plt # plotting\n",
    "import numpy as np # linear algebra\n",
    "import os # accessing directory structure\n",
    "import pandas as pd # data processing\n",
    "from pandas.plotting import scatter_matrix\n",
    "import psycopg2\n",
    "import pandas as pd\n",
    "import pandas.io.sql as sqlio\n",
    "from pyspark.ml.feature import MinMaxScaler\n",
    "from pyspark.ml.feature import VectorAssembler\n",
    "from pyspark.ml import Pipeline\n",
    "from pyspark.sql.functions import udf\n",
    "from pyspark.sql.types import DoubleType\n",
    "from pyspark.sql import SparkSession\n",
    "from pyspark.sql import SQLContext\n",
    "import pandas as pd\n",
    "from pyspark.sql import SparkSession\n",
    "from pyspark import SparkContext\n",
    "import pyspark.sql \n",
    "from pyspark.sql.functions import desc\n",
    "from pyspark.ml.classification import MultilayerPerceptronClassifier\n",
    "sc =SparkContext.getOrCreate()\n",
    "sqlContext = SQLContext(sc)"
   ]
  },
  {
   "cell_type": "code",
   "execution_count": 2,
   "metadata": {
    "scrolled": true
   },
   "outputs": [
    {
     "name": "stderr",
     "output_type": "stream",
     "text": [
      "/home/smicro/.local/lib/python3.6/site-packages/pyspark/sql/context.py:604: FutureWarning: HiveContext is deprecated in Spark 2.0.0. Please use SparkSession.builder.enableHiveSupport().getOrCreate() instead.\n",
      "  FutureWarning\n"
     ]
    }
   ],
   "source": [
    "#STEP-2 Read data from HIVE\n",
    "from pyspark.sql import HiveContext\n",
    "from pyspark import SparkConf\n",
    "spark = SparkSession(sc)\n",
    "hive_context = HiveContext(sc)\n",
    "sqlContext = SQLContext(sc)\n",
    " \n",
    "#df = sqlContext.sql(\"SELECT * FROM sda_hdd_db.ml_smart_data_view\") #per min 1 rec dataset\n",
    "df = sqlContext.sql(\"SELECT * FROM events1.smartdata_hourly_view\") #per hour 1 rec dataset"
   ]
  },
  {
   "cell_type": "code",
   "execution_count": 3,
   "metadata": {},
   "outputs": [],
   "source": [
    "#STEP-3 fill missing with zero \n",
    "df=df.na.fill(value=0)"
   ]
  },
  {
   "cell_type": "code",
   "execution_count": 4,
   "metadata": {},
   "outputs": [],
   "source": [
    "# order the data in desc order \n",
    "df=df.orderBy(desc(\"process_date\"))"
   ]
  },
  {
   "cell_type": "code",
   "execution_count": 5,
   "metadata": {},
   "outputs": [],
   "source": [
    "# delete #STEP-9 take out only serial number from validation_dataset\n",
    "#validation_dataset1 = pd.DataFrame(df.head(700), columns=df.columns)\n",
    "\n",
    "#final_colums1=dataset.dtypes\n",
    "# Download descriptive analysis\n",
    "#final_colums1=dataset.describe()\n",
    "#validation_dataset1.to_csv(r'E:\\work\\Supermicro\\modeling\\data_Q2_2019\\validation_dataset1.csv')"
   ]
  },
  {
   "cell_type": "code",
   "execution_count": 6,
   "metadata": {
    "scrolled": false
   },
   "outputs": [],
   "source": [
    "#STEP-4 select columns based on 1. less missing value 2. VIF 4. Correlation\n",
    "# 5. Outliers, skewness, kurtosis 6.EDA 7.Descriptive analysis ect... \n",
    "# columns_to_drop = [\"smart_201_normalized\",\"smart_17_raw\",\"smart_245_raw\",\"smart_201_raw\",\"smart_218_raw\",\"smart_16_raw\",\"smart_170_raw\",\"smart_180_normalized\",\"smart_180_raw\",\"model\",\"serial_number\",\"process_date\",\"date\",\"smart_226_raw\",\"smart_8_normalized\",\"smart_254_normalized\",\"smart_12_raw\",\"smart_192_raw\",\"smart_196_normalized\",\"smart_222_normalized\",\"smart_175_raw\",\"smart_190_normalized\",\"smart_13_raw\",\"smart_177_normalized\",\"smart_190_raw\",\"smart_202_raw\",\"smart_255_raw\", \"smart_15_normalized\", \"smart_234_raw\", \"smart_255_normalized\", \"smart_15_raw\", \"smart_234_normalized\", \"smart_206_normalized\", \"smart_206_raw\", \"smart_248_raw\", \"smart_248_normalized\",\"smart_210_raw\", \"smart_224_raw\", \"smart_18_raw\", \"smart_23_raw\", \"smart_24_raw\", \"smart_179_raw\", \"smart_181_raw\", \"smart_182_raw\", \"smart_251_normalized\", \"smart_250_normalized\", \"smart_254_raw\"]\n",
    "\n",
    "df = df.select(\"serial_number\",\n",
    "    \"capacity_bytes\",\n",
    "\"failure\",\n",
    "\"model\",\n",
    "\"smart_1_normalized\",\n",
    "\"smart_1_raw\",\n",
    "\"smart_2_normalized\",\n",
    "\"smart_2_raw\",\n",
    "\"smart_3_normalized\",\n",
    "\"smart_3_raw\",\n",
    "\"smart_4_normalized\",\n",
    "\"smart_4_raw\",\n",
    "\"smart_5_normalized\",\n",
    "\"smart_5_raw\",\n",
    "\"smart_7_normalized\",\n",
    "\"smart_7_raw\",\n",
    "\"smart_8_raw\",\n",
    "\"smart_9_normalized\",\n",
    "\"smart_9_raw\",\n",
    "\"smart_10_normalized\",\n",
    "\"smart_10_raw\",\n",
    "\"smart_11_normalized\",\n",
    "\"smart_11_raw\",\n",
    "\"smart_12_normalized\",\n",
    "\"smart_13_normalized\",\n",
    "\"smart_16_normalized\",\n",
    "\"smart_17_normalized\",\n",
    "\"smart_18_normalized\",\n",
    "\"smart_22_normalized\",\n",
    "\"smart_22_raw\",\n",
    "\"smart_23_normalized\",\n",
    "\"smart_24_normalized\",\n",
    "\"smart_168_normalized\",\n",
    "\"smart_168_raw\",\n",
    "\"smart_170_normalized\",\n",
    "\"smart_173_normalized\",\n",
    "\"smart_173_raw\",\n",
    "\"smart_174_normalized\",\n",
    "\"smart_174_raw\",\n",
    "\"smart_175_normalized\",\n",
    "\"smart_177_raw\",\n",
    "\"smart_179_normalized\",\n",
    "\"smart_181_normalized\",\n",
    "\"smart_182_normalized\",\n",
    "\"smart_183_normalized\",\n",
    "\"smart_183_raw\",\n",
    "\"smart_184_normalized\",\n",
    "\"smart_184_raw\",\n",
    "\"smart_187_normalized\",\n",
    "\"smart_187_raw\",\n",
    "\"smart_188_normalized\",\n",
    "\"smart_188_raw\",\n",
    "\"smart_189_normalized\",\n",
    "\"smart_189_raw\",\n",
    "\"smart_191_normalized\",\n",
    "\"smart_191_raw\",\n",
    "\"smart_192_normalized\",\n",
    "\"smart_193_normalized\",\n",
    "\"smart_193_raw\",\n",
    "\"smart_194_normalized\",\n",
    "\"smart_194_raw\",\n",
    "\"smart_195_normalized\",\n",
    "\"smart_195_raw\",\n",
    "\"smart_196_raw\",\n",
    "\"smart_197_normalized\",\n",
    "\"smart_197_raw\",\n",
    "\"smart_198_normalized\",\n",
    "\"smart_198_raw\",\n",
    "\"smart_199_normalized\",\n",
    "\"smart_199_raw\",\n",
    "\"smart_200_normalized\",\n",
    "\"smart_200_raw\",\n",
    "\"smart_202_normalized\",\n",
    "\"smart_210_normalized\",\n",
    "\"smart_218_normalized\",\n",
    "\"smart_220_normalized\",\n",
    "\"smart_220_raw\",\n",
    "\"smart_222_raw\",\n",
    "\"smart_223_normalized\",\n",
    "\"smart_223_raw\",\n",
    "\"smart_224_normalized\",\n",
    "\"smart_225_normalized\",\n",
    "\"smart_225_raw\",\n",
    "\"smart_226_normalized\",\n",
    "\"smart_231_normalized\",\n",
    "\"smart_231_raw\",\n",
    "\"smart_232_normalized\",\n",
    "\"smart_232_raw\",\n",
    "\"smart_233_normalized\",\n",
    "\"smart_233_raw\",\n",
    "\"smart_235_normalized\",\n",
    "\"smart_235_raw\",\n",
    "\"smart_240_normalized\",\n",
    "\"smart_240_raw\",\n",
    "\"smart_241_normalized\",\n",
    "\"smart_241_raw\",\n",
    "\"smart_242_normalized\",\n",
    "\"smart_242_raw\",\n",
    "\"smart_245_normalized\",\n",
    "\"smart_247_normalized\",\n",
    "\"smart_247_raw\",\n",
    "\"smart_250_raw\",\n",
    "\"smart_251_raw\",\n",
    "\"smart_252_normalized\",\n",
    "\"smart_252_raw\",\n",
    "\"smart_160_normalized\",\n",
    "\"smart_160_raw\",\n",
    "\"smart_161_normalized\",\n",
    "\"smart_161_raw\",\n",
    "\"smart_163_normalized\",\n",
    "\"smart_163_raw\",\n",
    "\"smart_164_normalized\",\n",
    "\"smart_164_raw\",\n",
    "\"smart_165_normalized\",\n",
    "\"smart_165_raw\",\n",
    "\"smart_166_normalized\",\n",
    "\"smart_166_raw\",\n",
    "\"smart_167_normalized\",\n",
    "\"smart_167_raw\",\n",
    "\"smart_169_normalized\",\n",
    "\"smart_169_raw\",\n",
    "\"smart_176_normalized\",\n",
    "\"smart_176_raw\",\n",
    "\"smart_178_normalized\",\n",
    "\"smart_178_raw\")\n",
    "cols = df.columns\n",
    "#df.printSchema()"
   ]
  },
  {
   "cell_type": "code",
   "execution_count": 7,
   "metadata": {},
   "outputs": [],
   "source": [
    "#STEP-5 OneHotEncoder   \n",
    "from pyspark.ml.feature import OneHotEncoder, StringIndexer, VectorAssembler\n",
    "categoricalColumns = ['model','serial_number']\n",
    "stages = []\n",
    "\n",
    "for categoricalCol in categoricalColumns:\n",
    "    stringIndexer = StringIndexer(inputCol = categoricalCol, outputCol = categoricalCol + 'Index')\n",
    "    encoder = OneHotEncoder(inputCols=[stringIndexer.getOutputCol()], outputCols=[categoricalCol + \"classVec\"])\n",
    "    stages += [stringIndexer, encoder]\n",
    "    \n",
    "label_stringIdx = StringIndexer(inputCol = 'failure', outputCol = 'label')\n",
    "stages += [label_stringIdx]"
   ]
  },
  {
   "cell_type": "code",
   "execution_count": 8,
   "metadata": {},
   "outputs": [],
   "source": [
    "#STEP-6 select numericCols\n",
    "numericCols = [\"capacity_bytes\",\n",
    "\"smart_1_normalized\",\n",
    "\"smart_1_raw\",\n",
    "\"smart_2_normalized\",\n",
    "\"smart_2_raw\",\n",
    "\"smart_3_normalized\",\n",
    "\"smart_3_raw\",\n",
    "\"smart_4_normalized\",\n",
    "\"smart_4_raw\",\n",
    "\"smart_5_normalized\",\n",
    "\"smart_5_raw\",\n",
    "\"smart_7_normalized\",\n",
    "\"smart_7_raw\",\n",
    "\"smart_8_raw\",\n",
    "\"smart_9_normalized\",\n",
    "\"smart_9_raw\",\n",
    "\"smart_10_normalized\",\n",
    "\"smart_10_raw\",\n",
    "\"smart_11_normalized\",\n",
    "\"smart_11_raw\",\n",
    "\"smart_12_normalized\",\n",
    "\"smart_13_normalized\",\n",
    "\"smart_16_normalized\",\n",
    "\"smart_17_normalized\",\n",
    "\"smart_18_normalized\",\n",
    "\"smart_22_normalized\",\n",
    "\"smart_22_raw\",\n",
    "\"smart_23_normalized\",\n",
    "\"smart_24_normalized\",\n",
    "\"smart_168_normalized\",\n",
    "\"smart_168_raw\",\n",
    "\"smart_170_normalized\",\n",
    "\"smart_173_normalized\",\n",
    "\"smart_173_raw\",\n",
    "\"smart_174_normalized\",\n",
    "\"smart_174_raw\",\n",
    "\"smart_175_normalized\",\n",
    "\"smart_177_raw\",\n",
    "\"smart_179_normalized\",\n",
    "\"smart_181_normalized\",\n",
    "\"smart_182_normalized\",\n",
    "\"smart_183_normalized\",\n",
    "\"smart_183_raw\",\n",
    "\"smart_184_normalized\",\n",
    "\"smart_184_raw\",\n",
    "\"smart_187_normalized\",\n",
    "\"smart_187_raw\",\n",
    "\"smart_188_normalized\",\n",
    "\"smart_188_raw\",\n",
    "\"smart_189_normalized\",\n",
    "\"smart_189_raw\",\n",
    "\"smart_191_normalized\",\n",
    "\"smart_191_raw\",\n",
    "\"smart_192_normalized\",\n",
    "\"smart_193_normalized\",\n",
    "\"smart_193_raw\",\n",
    "\"smart_194_normalized\",\n",
    "\"smart_194_raw\",\n",
    "\"smart_195_normalized\",\n",
    "\"smart_195_raw\",\n",
    "\"smart_196_raw\",\n",
    "\"smart_197_normalized\",\n",
    "\"smart_197_raw\",\n",
    "\"smart_198_normalized\",\n",
    "\"smart_198_raw\",\n",
    "\"smart_199_normalized\",\n",
    "\"smart_199_raw\",\n",
    "\"smart_200_normalized\",\n",
    "\"smart_200_raw\",\n",
    "\"smart_202_normalized\",\n",
    "\"smart_210_normalized\",\n",
    "\"smart_218_normalized\",\n",
    "\"smart_220_normalized\",\n",
    "\"smart_220_raw\",\n",
    "\"smart_222_raw\",\n",
    "\"smart_223_normalized\",\n",
    "\"smart_223_raw\",\n",
    "\"smart_224_normalized\",\n",
    "\"smart_225_normalized\",\n",
    "\"smart_225_raw\",\n",
    "\"smart_226_normalized\",\n",
    "\"smart_231_normalized\",\n",
    "\"smart_231_raw\",\n",
    "\"smart_232_normalized\",\n",
    "\"smart_232_raw\",\n",
    "\"smart_233_normalized\",\n",
    "\"smart_233_raw\",\n",
    "\"smart_235_normalized\",\n",
    "\"smart_235_raw\",\n",
    "\"smart_240_normalized\",\n",
    "\"smart_240_raw\",\n",
    "\"smart_241_normalized\",\n",
    "\"smart_241_raw\",\n",
    "\"smart_242_normalized\",\n",
    "\"smart_242_raw\",\n",
    "\"smart_245_normalized\",\n",
    "\"smart_247_normalized\",\n",
    "\"smart_247_raw\",\n",
    "\"smart_250_raw\",\n",
    "\"smart_251_raw\",\n",
    "\"smart_252_normalized\",\n",
    "\"smart_252_raw\",\n",
    "\"smart_160_normalized\",\n",
    "\"smart_160_raw\",\n",
    "\"smart_161_normalized\",\n",
    "\"smart_161_raw\",\n",
    "\"smart_163_normalized\",\n",
    "\"smart_163_raw\",\n",
    "\"smart_164_normalized\",\n",
    "\"smart_164_raw\",\n",
    "\"smart_165_normalized\",\n",
    "\"smart_165_raw\",\n",
    "\"smart_166_normalized\",\n",
    "\"smart_166_raw\",\n",
    "\"smart_167_normalized\",\n",
    "\"smart_167_raw\",\n",
    "\"smart_169_normalized\",\n",
    "\"smart_169_raw\",\n",
    "\"smart_176_normalized\",\n",
    "\"smart_176_raw\",\n",
    "\"smart_178_normalized\",\n",
    "\"smart_178_raw\"]\n",
    "assemblerInputs = [c + \"classVec\" for c in categoricalColumns] + numericCols\n",
    "assembler = VectorAssembler(inputCols=assemblerInputs, outputCol=\"features\")\n",
    "stages += [assembler]"
   ]
  },
  {
   "cell_type": "code",
   "execution_count": 9,
   "metadata": {},
   "outputs": [],
   "source": [
    "#STEP-7 Y - Variable selection \n",
    "from pyspark.ml import Pipeline\n",
    "pipeline = Pipeline(stages = stages)\n",
    "pipelineModel = pipeline.fit(df)\n",
    "df = pipelineModel.transform(df)\n",
    "selectedCols = ['label', 'features'] + cols\n",
    "df = df.select(selectedCols)\n"
   ]
  },
  {
   "cell_type": "code",
   "execution_count": 10,
   "metadata": {
    "scrolled": true
   },
   "outputs": [
    {
     "name": "stdout",
     "output_type": "stream",
     "text": [
      "Training Dataset Count: 37080\n",
      "Test Dataset Count: 15822\n"
     ]
    }
   ],
   "source": [
    "#STEP-8 data split \n",
    "train, test = df.randomSplit([0.7, 0.3], seed = 2018)\n",
    "print(\"Training Dataset Count: \" + str(train.count()))\n",
    "print(\"Test Dataset Count: \" + str(test.count()))\n",
    "train_serial_number=train.select('serial_number')\n",
    "#train_serial_number.show()\n",
    "test_serial_number=test.select('serial_number')\n",
    "#test_serial_number.show()"
   ]
  },
  {
   "cell_type": "code",
   "execution_count": 11,
   "metadata": {},
   "outputs": [],
   "source": [
    "#STEP-9 take out only serial number from validation_dataset\n",
    "validation_dataset1 = pd.DataFrame(df.head(700), columns=df.columns)\n",
    "#validation_dataset1 = pd.DataFrame(df.tail(100), columns=df.columns) \n",
    "from pyspark.sql import SQLContext\n",
    "sc = SparkContext.getOrCreate()\n",
    "sqlContext = SQLContext(sc)\n",
    "validation_dataset1 = sqlContext.createDataFrame(validation_dataset1)\n",
    "validation_serial_number=validation_dataset1.select('serial_number')"
   ]
  },
  {
   "cell_type": "code",
   "execution_count": 12,
   "metadata": {},
   "outputs": [],
   "source": [
    "#STEP-10 drop serial_number once created different data for serial number from validation_dataset\n",
    "columns_to_drop = [\"serial_number\"]\n",
    "train = train.drop(*columns_to_drop)\n",
    "test = test.drop(*columns_to_drop)\n",
    "df = test.drop(*columns_to_drop)\n",
    "validation_dataset1 = validation_dataset1.drop(*columns_to_drop)"
   ]
  },
  {
   "cell_type": "code",
   "execution_count": 13,
   "metadata": {},
   "outputs": [],
   "source": [
    "######################################### modeling step ###################"
   ]
  },
  {
   "cell_type": "code",
   "execution_count": 14,
   "metadata": {},
   "outputs": [],
   "source": [
    "#STEP-11 model 1: LogisticRegression # failure # label\n",
    "from pyspark.ml.classification import LogisticRegression\n",
    "lr = LogisticRegression(featuresCol = 'features', labelCol = 'failure', maxIter=10)\n",
    "lrModel = lr.fit(train)"
   ]
  },
  {
   "cell_type": "code",
   "execution_count": 15,
   "metadata": {},
   "outputs": [
    {
     "name": "stdout",
     "output_type": "stream",
     "text": [
      "0.9988623435722411 0.9979157017137563 1.0 0.9989567636490089 0.9987506940588562\n"
     ]
    }
   ],
   "source": [
    "#STEP-12 accuracy of the lrModel # failure # label\n",
    "import numpy as np\n",
    "from sklearn.metrics import accuracy_score, precision_score, recall_score, roc_auc_score, f1_score\n",
    "\n",
    "# Make predicitons\n",
    "predictionAndTarget = lrModel.transform(test).select(\"failure\", \"prediction\")\n",
    "\n",
    "predictionAndTargetNumpy = np.array((predictionAndTarget.collect()))\n",
    "\n",
    "acc = accuracy_score(predictionAndTargetNumpy[:,0], predictionAndTargetNumpy[:,1])\n",
    "f1 = f1_score(predictionAndTargetNumpy[:,0], predictionAndTargetNumpy[:,1])\n",
    "precision = precision_score(predictionAndTargetNumpy[:,0], predictionAndTargetNumpy[:,1])\n",
    "recall = recall_score(predictionAndTargetNumpy[:,0], predictionAndTargetNumpy[:,1])\n",
    "auc = roc_auc_score(predictionAndTargetNumpy[:,0], predictionAndTargetNumpy[:,1])\n",
    "print(acc,precision,recall,f1,auc) # lrModel"
   ]
  },
  {
   "cell_type": "code",
   "execution_count": 16,
   "metadata": {
    "scrolled": true
   },
   "outputs": [
    {
     "name": "stdout",
     "output_type": "stream",
     "text": [
      "+-----+---------------+--------------------+-------+--------------------+----------+--------------------+\n",
      "|index|  serial_number|               model|failure|    Confidence_Level|prediction|         probability|\n",
      "+-----+---------------+--------------------+-------+--------------------+----------+--------------------+\n",
      "|   26| MK0371YHK3Y4MG|Hitachi HUA723030...|      0|[7.48461295927121...|       0.0|[0.99943865477204...|\n",
      "|   29|       Z1Y45E7R| ST3000NM0033-9ZM178|      0|[7.03207434236296...|       0.0|[0.99911768114236...|\n",
      "|  474|WD-WCC5ZEZ5NDRN|WDC WD500VF4PZ-49...|      0|[7.53089876303461...|       0.0|[0.99946403134354...|\n",
      "|   65| MK0371YHKB65WA|Hitachi HUA723030...|      0|[7.48612037188067...|       0.0|[0.99943949983954...|\n",
      "|  191| STN604MH11MXXB|Hitachi HDE721010...|      0|[7.52502453241129...|       0.0|[0.99946087537707...|\n",
      "|  418| MK0371YHKB457A|Hitachi HUA723030...|      0|[7.49116794868234...|       0.0|[0.99944232030513...|\n",
      "|  541|       Z1Y44P79| ST3000NM0033-9ZM178|      0|[7.30021896633105...|       0.0|[0.99932506497381...|\n",
      "|  558| MK0371YHKB65WA|Hitachi HUA723030...|      0|[7.47868375136283...|       0.0|[0.99943531843779...|\n",
      "|  222| MK0371YHKBGMVA|Hitachi HUA723030...|      0|[7.51727696433540...|       0.0|[0.99945668452825...|\n",
      "|  270|       5QE068NL|         ST3250620AS|      0|[7.27235813812868...|       0.0|[0.99930600955772...|\n",
      "|  293|       6YD1L69W|  ST2000DL003-9VT166|      0|[6.68161032706906...|       0.0|[0.99874781255262...|\n",
      "|  243| MK0351YHG5EBTA|Hitachi HUA723030...|      0|[7.39354043653985...|       0.0|[0.99938516428832...|\n",
      "|  278| MK0331YHGDSGXA|Hitachi HUA723030...|      0|[7.50290344505613...|       0.0|[0.99944882311443...|\n",
      "|  367|WD-WCC5ZEZ5NDRN|WDC WD500VF4PZ-49...|      0|[7.51026589816517...|       0.0|[0.99945286401440...|\n",
      "|  442|WD-WMAY00016492|WDC WD2003FYYS-02...|      0|[7.77987205275144...|       0.0|[0.99958210904431...|\n",
      "|   19| MK0371YHJXMPJA|Hitachi HUA723030...|      0|[7.49374244892461...|       0.0|[0.99944375340746...|\n",
      "|   54|       Z4D07P8Q| ST6000NM0024-1HT17Z|      0|[7.02604384682178...|       0.0|[0.99911234898383...|\n",
      "|  296| MK0371YHKBGUVA|Hitachi HUA723030...|      0|[7.46487388310533...|       0.0|[0.99942747066083...|\n",
      "|    0| MK0271YGJA4WUA|Hitachi HUA723020...|      0|[7.53730506772216...|       0.0|[0.99946745212453...|\n",
      "|  277|WD-WMAY00016492|WDC WD2003FYYS-02...|      0|[7.77988715464106...|       0.0|[0.99958211535257...|\n",
      "+-----+---------------+--------------------+-------+--------------------+----------+--------------------+\n",
      "only showing top 20 rows\n",
      "\n"
     ]
    }
   ],
   "source": [
    "#STEP-13 predictions with validation data  # failure # label\n",
    "predictions = lrModel.transform(validation_dataset1)\n",
    "final1=predictions.select('model', 'failure', 'rawPrediction', 'prediction', 'probability')\n",
    "#row_number = final1.count()\n",
    "#row_number\n",
    "from pyspark.sql.types import LongType\n",
    "from pyspark.sql import Row\n",
    "def zipindexdf(df):\n",
    "    schema_new = df.schema.add(\"index\", LongType(), False)\n",
    "    return df.rdd.zipWithIndex().map(lambda l: list(l[0]) + [l[1]]).toDF(schema_new)\n",
    "\n",
    "validation_serial_number_index = zipindexdf(validation_serial_number)\n",
    "#validation_serial_number_index.show()\n",
    "final1_index = zipindexdf(final1)\n",
    "#final_index.show()\n",
    "final1_model_results = validation_serial_number_index.join(final1_index, \"index\", \"inner\")\n",
    "final1_model_results = final1_model_results.withColumnRenamed(\"rawPrediction\", \"Confidence_Level\")\n",
    "final1_model_results.show()"
   ]
  },
  {
   "cell_type": "code",
   "execution_count": 17,
   "metadata": {},
   "outputs": [],
   "source": [
    "# STEP-14 Download the predictions results\n",
    "pandasDF = final1_model_results.toPandas()\n",
    "#pandasDF.label.replace((0, 1), ('Active', 'fail'), inplace=True)\n",
    "pandasDF.failure.replace((0, 1), ('Active', 'fail'), inplace=True)\n",
    "pandasDF.prediction.replace((0, 1), ('Active', 'Predicted_to_be_fail'), inplace=True)\n",
    "\n",
    "pandasDF['Confidence_Level'] = pandasDF['Confidence_Level'].astype('str')\n",
    "pandasDF['probability'] = pandasDF['probability'].astype('str')\n",
    "Confidence_Level=pandasDF['Confidence_Level'].str.split(',', expand=True)\n",
    "pandasDF = pandasDF.join(Confidence_Level).drop(1, axis=1)\n",
    "pandasDF = pandasDF.drop(['Confidence_Level'], 1)\n",
    "pandasDF.rename(columns = {0:'Confidence_Level'}, inplace = True)\n",
    "probability1=pandasDF['probability'].str.split(',', expand=True)\n",
    "probability1.rename(columns = {0:'Active_Probability'}, inplace = True)\n",
    "probability1.rename(columns = {1:'Failure_Probability'}, inplace = True)\n",
    "pandasDF = pandasDF.join(probability1)\n",
    "pandasDF = pandasDF.drop(['probability'], 1)\n",
    "pandasDF = pandasDF.drop(['index'], 1)\n",
    "pandasDF.rename(columns = {'serial_number':'Serial_Number'}, inplace = True)\n",
    "pandasDF.rename(columns = {'model':'Model'}, inplace = True)\n",
    "pandasDF.rename(columns = {'label':'Actaul'}, inplace = True)\n",
    "pandasDF.rename(columns = {'prediction':'Prediction'}, inplace = True)\n",
    "pandasDF=pandasDF.replace('\\]','',regex=True).astype(str)\n",
    "pandasDF=pandasDF.replace('\\[','',regex=True).astype(str)\n",
    "\n",
    "#pandasDF=pandasDF.groupby(['Serial_Number']).min()\n",
    "\n",
    "pandasDF.sort_values(by=['Prediction'], inplace=True, ascending=False)\n",
    "pandasDF.sort_values(by=['Active_Probability'], inplace=True)\n",
    "# download csv file \n",
    "pandasDF.to_csv(r'E:\\home\\smicro\\ML-Ganesh\\modelPrediction\\Prediction_Results.csv')\n",
    "# download excel file \n",
    "#pandasDF = final1_model_results.toPandas()\n",
    "writer = pd.ExcelWriter(\"Prediction_Results_ML.xlsx\")\n",
    "pandasDF.to_excel(excel_writer=writer, sheet_name='Sheet1', na_rep=\"\")\n",
    "writer.save()"
   ]
  },
  {
   "cell_type": "code",
   "execution_count": null,
   "metadata": {},
   "outputs": [],
   "source": [
    "###############################################################################################################"
   ]
  },
  {
   "cell_type": "code",
   "execution_count": 63,
   "metadata": {
    "scrolled": true
   },
   "outputs": [],
   "source": [
    "#STEP-11 DecisionTreeClassifier\n",
    "from pyspark.ml.classification import DecisionTreeClassifier\n",
    "dt = DecisionTreeClassifier(featuresCol = 'features', labelCol = 'failure', maxDepth = 3)\n",
    "dtModel = dt.fit(train)\n",
    "#predictions = dtModel.transform(test)\n",
    "#predictions1=predictions.select('model', 'failure', 'rawPrediction', 'prediction', 'probability')\n",
    "#predictions1.show(10)"
   ]
  },
  {
   "cell_type": "code",
   "execution_count": 64,
   "metadata": {},
   "outputs": [
    {
     "name": "stdout",
     "output_type": "stream",
     "text": [
      "0.9972905525846703 0.9955901125681792 1.0 0.997790183763666 0.9965112008813809\n"
     ]
    }
   ],
   "source": [
    "#STEP-12 accuracy of the DecisionTreeClassifier \n",
    "import numpy as np\n",
    "from sklearn.metrics import accuracy_score, precision_score, recall_score, roc_auc_score, f1_score\n",
    "\n",
    "# Make predicitons\n",
    "predictionAndTarget = dtModel.transform(test).select(\"failure\", \"prediction\")\n",
    "predictionAndTargetNumpy = np.array((predictionAndTarget.collect()))\n",
    "\n",
    "acc = accuracy_score(predictionAndTargetNumpy[:,0], predictionAndTargetNumpy[:,1])\n",
    "f1 = f1_score(predictionAndTargetNumpy[:,0], predictionAndTargetNumpy[:,1])\n",
    "precision = precision_score(predictionAndTargetNumpy[:,0], predictionAndTargetNumpy[:,1])\n",
    "recall = recall_score(predictionAndTargetNumpy[:,0], predictionAndTargetNumpy[:,1])\n",
    "auc = roc_auc_score(predictionAndTargetNumpy[:,0], predictionAndTargetNumpy[:,1])\n",
    "print(acc,precision,recall,f1,auc) # DecisionTreeClassifier"
   ]
  },
  {
   "cell_type": "code",
   "execution_count": 65,
   "metadata": {},
   "outputs": [
    {
     "name": "stdout",
     "output_type": "stream",
     "text": [
      "+-----+---------------+--------------------+-------+----------------+----------+-----------+\n",
      "|index|  serial_number|               model|failure|Confidence_Level|prediction|probability|\n",
      "+-----+---------------+--------------------+-------+----------------+----------+-----------+\n",
      "|   26| MK0371YHK3Y4MG|Hitachi HUA723030...|      0|   [12552.0,0.0]|       0.0|  [1.0,0.0]|\n",
      "|   29|       Z1Y45E7R| ST3000NM0033-9ZM178|      0|   [12552.0,0.0]|       0.0|  [1.0,0.0]|\n",
      "|  474| MK0271YGJA4WUA|Hitachi HUA723020...|      0|   [12552.0,0.0]|       0.0|  [1.0,0.0]|\n",
      "|   65|       Z1Y45RA5| ST3000NM0033-9ZM178|      0|   [12552.0,0.0]|       0.0|  [1.0,0.0]|\n",
      "|  191|WD-WCAYU8376963|WDC WD5002AALX-00...|      0|   [12552.0,0.0]|       0.0|  [1.0,0.0]|\n",
      "|  418|       Z4D07P8Q| ST6000NM0024-1HT17Z|      0|   [12552.0,0.0]|       0.0|  [1.0,0.0]|\n",
      "|  541|       Z1Y44P79| ST3000NM0033-9ZM178|      0|   [12552.0,0.0]|       0.0|  [1.0,0.0]|\n",
      "|  558|       Z1Y45RA5| ST3000NM0033-9ZM178|      0|   [12552.0,0.0]|       0.0|  [1.0,0.0]|\n",
      "|  222| MK0371YHK9UKNA|Hitachi HUA723030...|      0|   [12552.0,0.0]|       0.0|  [1.0,0.0]|\n",
      "|  270|WD-WCC130857764|WDC WD4000FYYZ-01...|      0|   [12552.0,0.0]|       0.0|  [1.0,0.0]|\n",
      "|  293|       Z1Y44P79| ST3000NM0033-9ZM178|      0|   [12552.0,0.0]|       0.0|  [1.0,0.0]|\n",
      "|  243|WD-WCC5Z0010781|WDC WD500VF4PZ-49...|      0|   [12552.0,0.0]|       0.0|  [1.0,0.0]|\n",
      "|  278| MK0171YFJMN9AA|Hitachi HUA723020...|      0|   [12552.0,0.0]|       0.0|  [1.0,0.0]|\n",
      "|  367|WD-WCAYU8376963|WDC WD5002AALX-00...|      0|   [12552.0,0.0]|       0.0|  [1.0,0.0]|\n",
      "|  442| MK0371YHK3Y4MG|Hitachi HUA723030...|      0|   [12552.0,0.0]|       0.0|  [1.0,0.0]|\n",
      "|   19| MK0371YHJXMPJA|Hitachi HUA723030...|      0|   [12552.0,0.0]|       0.0|  [1.0,0.0]|\n",
      "|   54|WD-WCAVY0102873|WDC WD2002FYPS-01...|      0|   [12552.0,0.0]|       0.0|  [1.0,0.0]|\n",
      "|  296|WD-WCC5ZLX9VCEY|WDC WD500VF4PZ-49...|      0|   [12552.0,0.0]|       0.0|  [1.0,0.0]|\n",
      "|    0|WD-WCAYU8376963|WDC WD5002AALX-00...|      0|   [12552.0,0.0]|       0.0|  [1.0,0.0]|\n",
      "|  277| MK0371YHK9UKNA|Hitachi HUA723030...|      0|   [12552.0,0.0]|       0.0|  [1.0,0.0]|\n",
      "+-----+---------------+--------------------+-------+----------------+----------+-----------+\n",
      "only showing top 20 rows\n",
      "\n"
     ]
    }
   ],
   "source": [
    "#STEP-13 predictions with validation data  # failure # label\n",
    "predictions = dtModel.transform(validation_dataset1)\n",
    "final1=predictions.select('model', 'failure', 'rawPrediction', 'prediction', 'probability')\n",
    "#row_number = final1.count()\n",
    "#row_number\n",
    "from pyspark.sql.types import LongType\n",
    "from pyspark.sql import Row\n",
    "def zipindexdf(df):\n",
    "    schema_new = df.schema.add(\"index\", LongType(), False)\n",
    "    return df.rdd.zipWithIndex().map(lambda l: list(l[0]) + [l[1]]).toDF(schema_new)\n",
    "\n",
    "validation_serial_number_index = zipindexdf(validation_serial_number)\n",
    "#validation_serial_number_index.show()\n",
    "final1_index = zipindexdf(final1)\n",
    "#final_index.show()\n",
    "final1_model_results = validation_serial_number_index.join(final1_index, \"index\", \"inner\")\n",
    "final1_model_results = final1_model_results.withColumnRenamed(\"rawPrediction\", \"Confidence_Level\")\n",
    "final1_model_results.show()"
   ]
  },
  {
   "cell_type": "code",
   "execution_count": 66,
   "metadata": {},
   "outputs": [],
   "source": [
    "# STEP-14 Download the predictions results\n",
    "pandasDF = final1_model_results.toPandas()\n",
    "#pandasDF.label.replace((0, 1), ('Active', 'fail'), inplace=True)\n",
    "pandasDF.failure.replace((0, 1), ('Active', 'fail'), inplace=True)\n",
    "pandasDF.prediction.replace((0, 1), ('Active', 'Predicted_to_be_fail'), inplace=True)\n",
    "\n",
    "pandasDF['Confidence_Level'] = pandasDF['Confidence_Level'].astype('str')\n",
    "pandasDF['probability'] = pandasDF['probability'].astype('str')\n",
    "Confidence_Level=pandasDF['Confidence_Level'].str.split(',', expand=True)\n",
    "pandasDF = pandasDF.join(Confidence_Level).drop(1, axis=1)\n",
    "pandasDF = pandasDF.drop(['Confidence_Level'], 1)\n",
    "pandasDF.rename(columns = {0:'Confidence_Level'}, inplace = True)\n",
    "probability1=pandasDF['probability'].str.split(',', expand=True)\n",
    "probability1.rename(columns = {0:'Active_Probability'}, inplace = True)\n",
    "probability1.rename(columns = {1:'Failure_Probability'}, inplace = True)\n",
    "pandasDF = pandasDF.join(probability1)\n",
    "pandasDF = pandasDF.drop(['probability'], 1)\n",
    "pandasDF = pandasDF.drop(['index'], 1)\n",
    "pandasDF.rename(columns = {'serial_number':'Serial_Number'}, inplace = True)\n",
    "pandasDF.rename(columns = {'model':'Model'}, inplace = True)\n",
    "pandasDF.rename(columns = {'label':'Actaul'}, inplace = True)\n",
    "pandasDF.rename(columns = {'prediction':'Prediction'}, inplace = True)\n",
    "pandasDF=pandasDF.replace('\\]','',regex=True).astype(str)\n",
    "pandasDF=pandasDF.replace('\\[','',regex=True).astype(str)\n",
    "\n",
    "#pandasDF=pandasDF.groupby(['Serial_Number']).min()\n",
    "\n",
    "pandasDF.sort_values(by=['Prediction'], inplace=True, ascending=False)\n",
    "pandasDF.sort_values(by=['Active_Probability'], inplace=True)\n",
    "# download csv file \n",
    "pandasDF.to_csv(r'E:\\home\\smicro\\ML-Ganesh\\modelPrediction\\Prediction_Results.csv')\n",
    "# download excel file \n",
    "#pandasDF = final1_model_results.toPandas()\n",
    "writer = pd.ExcelWriter(\"Prediction_Results_ML.xlsx\")\n",
    "pandasDF.to_excel(excel_writer=writer, sheet_name='Sheet1', na_rep=\"\")\n",
    "writer.save()"
   ]
  },
  {
   "cell_type": "code",
   "execution_count": null,
   "metadata": {},
   "outputs": [],
   "source": [
    "#############################################################"
   ]
  },
  {
   "cell_type": "code",
   "execution_count": 67,
   "metadata": {},
   "outputs": [],
   "source": [
    "#STEP-11 model 3 RandomForestClassifier\n",
    "from pyspark.ml.classification import RandomForestClassifier\n",
    "rf = RandomForestClassifier(featuresCol = 'features', labelCol = 'failure')\n",
    "rfModel = rf.fit(train)\n",
    "#predictions = rfModel.transform(test)\n",
    "#predictions2=predictions.select('model', 'label', 'rawPrediction', 'prediction', 'probability')\n",
    "#predictions2.show(10)"
   ]
  },
  {
   "cell_type": "code",
   "execution_count": 68,
   "metadata": {},
   "outputs": [
    {
     "name": "stdout",
     "output_type": "stream",
     "text": [
      "0.9938667807730709 1.0 0.9899696757639375 0.9949595592544835 0.9949848378819688\n"
     ]
    }
   ],
   "source": [
    "#STEP-12 accuracy of the RandomForestClassifier \n",
    "import numpy as np\n",
    "from sklearn.metrics import accuracy_score, precision_score, recall_score, roc_auc_score, f1_score\n",
    "\n",
    "# Make predicitons\n",
    "predictionAndTarget = rfModel.transform(test).select(\"failure\", \"prediction\")\n",
    "\n",
    "predictionAndTargetNumpy = np.array((predictionAndTarget.collect()))\n",
    "\n",
    "acc = accuracy_score(predictionAndTargetNumpy[:,0], predictionAndTargetNumpy[:,1])\n",
    "f1 = f1_score(predictionAndTargetNumpy[:,0], predictionAndTargetNumpy[:,1])\n",
    "precision = precision_score(predictionAndTargetNumpy[:,0], predictionAndTargetNumpy[:,1])\n",
    "recall = recall_score(predictionAndTargetNumpy[:,0], predictionAndTargetNumpy[:,1])\n",
    "auc = roc_auc_score(predictionAndTargetNumpy[:,0], predictionAndTargetNumpy[:,1])\n",
    "print(acc,precision,recall,f1,auc) # RandomForestClassifier"
   ]
  },
  {
   "cell_type": "code",
   "execution_count": 69,
   "metadata": {},
   "outputs": [
    {
     "ename": "Py4JJavaError",
     "evalue": "An error occurred while calling o3227.showString.\n: org.apache.spark.SparkException: Job aborted due to stage failure: Task 4 in stage 326.0 failed 1 times, most recent failure: Lost task 4.0 in stage 326.0 (TID 22383) (sm1.dev.com executor driver): org.apache.spark.api.python.PythonException: Traceback (most recent call last):\n  File \"/opt/smicro/spark/spark-3.1.2-bin-hadoop3.2/python/lib/pyspark.zip/pyspark/worker.py\", line 604, in main\n    process()\n  File \"/opt/smicro/spark/spark-3.1.2-bin-hadoop3.2/python/lib/pyspark.zip/pyspark/worker.py\", line 596, in process\n    serializer.dump_stream(out_iter, outfile)\n  File \"/opt/smicro/spark/spark-3.1.2-bin-hadoop3.2/python/lib/pyspark.zip/pyspark/serializers.py\", line 259, in dump_stream\n    vs = list(itertools.islice(iterator, batch))\n  File \"/opt/smicro/spark/spark-3.1.2-bin-hadoop3.2/python/lib/pyspark.zip/pyspark/util.py\", line 73, in wrapper\n    return f(*args, **kwargs)\n  File \"/home/smicro/.local/lib/python3.6/site-packages/pyspark/sql/session.py\", line 682, in prepare\n    verify_func(obj)\n  File \"/home/smicro/.local/lib/python3.6/site-packages/pyspark/sql/types.py\", line 1411, in verify\n    verify_value(obj)\n  File \"/home/smicro/.local/lib/python3.6/site-packages/pyspark/sql/types.py\", line 1390, in verify_struct\n    \"length of fields (%d)\" % (len(obj), len(verifiers))))\nValueError: Length of object (2) does not match with length of fields (3)\n\n\tat org.apache.spark.api.python.BasePythonRunner$ReaderIterator.handlePythonException(PythonRunner.scala:517)\n\tat org.apache.spark.api.python.PythonRunner$$anon$3.read(PythonRunner.scala:652)\n\tat org.apache.spark.api.python.PythonRunner$$anon$3.read(PythonRunner.scala:635)\n\tat org.apache.spark.api.python.BasePythonRunner$ReaderIterator.hasNext(PythonRunner.scala:470)\n\tat org.apache.spark.InterruptibleIterator.hasNext(InterruptibleIterator.scala:37)\n\tat scala.collection.Iterator$$anon$11.hasNext(Iterator.scala:489)\n\tat scala.collection.Iterator$$anon$10.hasNext(Iterator.scala:458)\n\tat scala.collection.Iterator$$anon$10.hasNext(Iterator.scala:458)\n\tat org.apache.spark.sql.catalyst.expressions.GeneratedClass$GeneratedIteratorForCodegenStage1.processNext(Unknown Source)\n\tat org.apache.spark.sql.execution.BufferedRowIterator.hasNext(BufferedRowIterator.java:43)\n\tat org.apache.spark.sql.execution.WholeStageCodegenExec$$anon$1.hasNext(WholeStageCodegenExec.scala:755)\n\tat scala.collection.Iterator$$anon$10.hasNext(Iterator.scala:458)\n\tat org.apache.spark.shuffle.sort.BypassMergeSortShuffleWriter.write(BypassMergeSortShuffleWriter.java:132)\n\tat org.apache.spark.shuffle.ShuffleWriteProcessor.write(ShuffleWriteProcessor.scala:59)\n\tat org.apache.spark.scheduler.ShuffleMapTask.runTask(ShuffleMapTask.scala:99)\n\tat org.apache.spark.scheduler.ShuffleMapTask.runTask(ShuffleMapTask.scala:52)\n\tat org.apache.spark.scheduler.Task.run(Task.scala:131)\n\tat org.apache.spark.executor.Executor$TaskRunner.$anonfun$run$3(Executor.scala:497)\n\tat org.apache.spark.util.Utils$.tryWithSafeFinally(Utils.scala:1439)\n\tat org.apache.spark.executor.Executor$TaskRunner.run(Executor.scala:500)\n\tat java.util.concurrent.ThreadPoolExecutor.runWorker(ThreadPoolExecutor.java:1149)\n\tat java.util.concurrent.ThreadPoolExecutor$Worker.run(ThreadPoolExecutor.java:624)\n\tat java.lang.Thread.run(Thread.java:748)\n\nDriver stacktrace:\n\tat org.apache.spark.scheduler.DAGScheduler.failJobAndIndependentStages(DAGScheduler.scala:2258)\n\tat org.apache.spark.scheduler.DAGScheduler.$anonfun$abortStage$2(DAGScheduler.scala:2207)\n\tat org.apache.spark.scheduler.DAGScheduler.$anonfun$abortStage$2$adapted(DAGScheduler.scala:2206)\n\tat scala.collection.mutable.ResizableArray.foreach(ResizableArray.scala:62)\n\tat scala.collection.mutable.ResizableArray.foreach$(ResizableArray.scala:55)\n\tat scala.collection.mutable.ArrayBuffer.foreach(ArrayBuffer.scala:49)\n\tat org.apache.spark.scheduler.DAGScheduler.abortStage(DAGScheduler.scala:2206)\n\tat org.apache.spark.scheduler.DAGScheduler.$anonfun$handleTaskSetFailed$1(DAGScheduler.scala:1079)\n\tat org.apache.spark.scheduler.DAGScheduler.$anonfun$handleTaskSetFailed$1$adapted(DAGScheduler.scala:1079)\n\tat scala.Option.foreach(Option.scala:407)\n\tat org.apache.spark.scheduler.DAGScheduler.handleTaskSetFailed(DAGScheduler.scala:1079)\n\tat org.apache.spark.scheduler.DAGSchedulerEventProcessLoop.doOnReceive(DAGScheduler.scala:2445)\n\tat org.apache.spark.scheduler.DAGSchedulerEventProcessLoop.onReceive(DAGScheduler.scala:2387)\n\tat org.apache.spark.scheduler.DAGSchedulerEventProcessLoop.onReceive(DAGScheduler.scala:2376)\n\tat org.apache.spark.util.EventLoop$$anon$1.run(EventLoop.scala:49)\n\tat org.apache.spark.scheduler.DAGScheduler.runJob(DAGScheduler.scala:868)\n\tat org.apache.spark.SparkContext.runJob(SparkContext.scala:2196)\n\tat org.apache.spark.SparkContext.runJob(SparkContext.scala:2217)\n\tat org.apache.spark.SparkContext.runJob(SparkContext.scala:2236)\n\tat org.apache.spark.sql.execution.SparkPlan.executeTake(SparkPlan.scala:472)\n\tat org.apache.spark.sql.execution.SparkPlan.executeTake(SparkPlan.scala:425)\n\tat org.apache.spark.sql.execution.CollectLimitExec.executeCollect(limit.scala:47)\n\tat org.apache.spark.sql.Dataset.collectFromPlan(Dataset.scala:3696)\n\tat org.apache.spark.sql.Dataset.$anonfun$head$1(Dataset.scala:2722)\n\tat org.apache.spark.sql.Dataset.$anonfun$withAction$1(Dataset.scala:3687)\n\tat org.apache.spark.sql.execution.SQLExecution$.$anonfun$withNewExecutionId$5(SQLExecution.scala:103)\n\tat org.apache.spark.sql.execution.SQLExecution$.withSQLConfPropagated(SQLExecution.scala:163)\n\tat org.apache.spark.sql.execution.SQLExecution$.$anonfun$withNewExecutionId$1(SQLExecution.scala:90)\n\tat org.apache.spark.sql.SparkSession.withActive(SparkSession.scala:775)\n\tat org.apache.spark.sql.execution.SQLExecution$.withNewExecutionId(SQLExecution.scala:64)\n\tat org.apache.spark.sql.Dataset.withAction(Dataset.scala:3685)\n\tat org.apache.spark.sql.Dataset.head(Dataset.scala:2722)\n\tat org.apache.spark.sql.Dataset.take(Dataset.scala:2929)\n\tat org.apache.spark.sql.Dataset.getRows(Dataset.scala:301)\n\tat org.apache.spark.sql.Dataset.showString(Dataset.scala:338)\n\tat sun.reflect.NativeMethodAccessorImpl.invoke0(Native Method)\n\tat sun.reflect.NativeMethodAccessorImpl.invoke(NativeMethodAccessorImpl.java:62)\n\tat sun.reflect.DelegatingMethodAccessorImpl.invoke(DelegatingMethodAccessorImpl.java:43)\n\tat java.lang.reflect.Method.invoke(Method.java:498)\n\tat py4j.reflection.MethodInvoker.invoke(MethodInvoker.java:244)\n\tat py4j.reflection.ReflectionEngine.invoke(ReflectionEngine.java:357)\n\tat py4j.Gateway.invoke(Gateway.java:282)\n\tat py4j.commands.AbstractCommand.invokeMethod(AbstractCommand.java:132)\n\tat py4j.commands.CallCommand.execute(CallCommand.java:79)\n\tat py4j.GatewayConnection.run(GatewayConnection.java:238)\n\tat java.lang.Thread.run(Thread.java:748)\nCaused by: org.apache.spark.api.python.PythonException: Traceback (most recent call last):\n  File \"/opt/smicro/spark/spark-3.1.2-bin-hadoop3.2/python/lib/pyspark.zip/pyspark/worker.py\", line 604, in main\n    process()\n  File \"/opt/smicro/spark/spark-3.1.2-bin-hadoop3.2/python/lib/pyspark.zip/pyspark/worker.py\", line 596, in process\n    serializer.dump_stream(out_iter, outfile)\n  File \"/opt/smicro/spark/spark-3.1.2-bin-hadoop3.2/python/lib/pyspark.zip/pyspark/serializers.py\", line 259, in dump_stream\n    vs = list(itertools.islice(iterator, batch))\n  File \"/opt/smicro/spark/spark-3.1.2-bin-hadoop3.2/python/lib/pyspark.zip/pyspark/util.py\", line 73, in wrapper\n    return f(*args, **kwargs)\n  File \"/home/smicro/.local/lib/python3.6/site-packages/pyspark/sql/session.py\", line 682, in prepare\n    verify_func(obj)\n  File \"/home/smicro/.local/lib/python3.6/site-packages/pyspark/sql/types.py\", line 1411, in verify\n    verify_value(obj)\n  File \"/home/smicro/.local/lib/python3.6/site-packages/pyspark/sql/types.py\", line 1390, in verify_struct\n    \"length of fields (%d)\" % (len(obj), len(verifiers))))\nValueError: Length of object (2) does not match with length of fields (3)\n\n\tat org.apache.spark.api.python.BasePythonRunner$ReaderIterator.handlePythonException(PythonRunner.scala:517)\n\tat org.apache.spark.api.python.PythonRunner$$anon$3.read(PythonRunner.scala:652)\n\tat org.apache.spark.api.python.PythonRunner$$anon$3.read(PythonRunner.scala:635)\n\tat org.apache.spark.api.python.BasePythonRunner$ReaderIterator.hasNext(PythonRunner.scala:470)\n\tat org.apache.spark.InterruptibleIterator.hasNext(InterruptibleIterator.scala:37)\n\tat scala.collection.Iterator$$anon$11.hasNext(Iterator.scala:489)\n\tat scala.collection.Iterator$$anon$10.hasNext(Iterator.scala:458)\n\tat scala.collection.Iterator$$anon$10.hasNext(Iterator.scala:458)\n\tat org.apache.spark.sql.catalyst.expressions.GeneratedClass$GeneratedIteratorForCodegenStage1.processNext(Unknown Source)\n\tat org.apache.spark.sql.execution.BufferedRowIterator.hasNext(BufferedRowIterator.java:43)\n\tat org.apache.spark.sql.execution.WholeStageCodegenExec$$anon$1.hasNext(WholeStageCodegenExec.scala:755)\n\tat scala.collection.Iterator$$anon$10.hasNext(Iterator.scala:458)\n\tat org.apache.spark.shuffle.sort.BypassMergeSortShuffleWriter.write(BypassMergeSortShuffleWriter.java:132)\n\tat org.apache.spark.shuffle.ShuffleWriteProcessor.write(ShuffleWriteProcessor.scala:59)\n\tat org.apache.spark.scheduler.ShuffleMapTask.runTask(ShuffleMapTask.scala:99)\n\tat org.apache.spark.scheduler.ShuffleMapTask.runTask(ShuffleMapTask.scala:52)\n\tat org.apache.spark.scheduler.Task.run(Task.scala:131)\n\tat org.apache.spark.executor.Executor$TaskRunner.$anonfun$run$3(Executor.scala:497)\n\tat org.apache.spark.util.Utils$.tryWithSafeFinally(Utils.scala:1439)\n\tat org.apache.spark.executor.Executor$TaskRunner.run(Executor.scala:500)\n\tat java.util.concurrent.ThreadPoolExecutor.runWorker(ThreadPoolExecutor.java:1149)\n\tat java.util.concurrent.ThreadPoolExecutor$Worker.run(ThreadPoolExecutor.java:624)\n\t... 1 more\n",
     "output_type": "error",
     "traceback": [
      "\u001b[0;31m---------------------------------------------------------------------------\u001b[0m",
      "\u001b[0;31mPy4JJavaError\u001b[0m                             Traceback (most recent call last)",
      "\u001b[0;32m<ipython-input-69-7bb1ea29c90d>\u001b[0m in \u001b[0;36m<module>\u001b[0;34m\u001b[0m\n\u001b[1;32m     16\u001b[0m \u001b[0mfinal1_model_results\u001b[0m \u001b[0;34m=\u001b[0m \u001b[0mvalidation_serial_number_index\u001b[0m\u001b[0;34m.\u001b[0m\u001b[0mjoin\u001b[0m\u001b[0;34m(\u001b[0m\u001b[0mfinal1_index\u001b[0m\u001b[0;34m,\u001b[0m \u001b[0;34m\"index\"\u001b[0m\u001b[0;34m,\u001b[0m \u001b[0;34m\"inner\"\u001b[0m\u001b[0;34m)\u001b[0m\u001b[0;34m\u001b[0m\u001b[0;34m\u001b[0m\u001b[0m\n\u001b[1;32m     17\u001b[0m \u001b[0mfinal1_model_results\u001b[0m \u001b[0;34m=\u001b[0m \u001b[0mfinal1_model_results\u001b[0m\u001b[0;34m.\u001b[0m\u001b[0mwithColumnRenamed\u001b[0m\u001b[0;34m(\u001b[0m\u001b[0;34m\"rawPrediction\"\u001b[0m\u001b[0;34m,\u001b[0m \u001b[0;34m\"Confidence_Level\"\u001b[0m\u001b[0;34m)\u001b[0m\u001b[0;34m\u001b[0m\u001b[0;34m\u001b[0m\u001b[0m\n\u001b[0;32m---> 18\u001b[0;31m \u001b[0mfinal1_model_results\u001b[0m\u001b[0;34m.\u001b[0m\u001b[0mshow\u001b[0m\u001b[0;34m(\u001b[0m\u001b[0;34m)\u001b[0m\u001b[0;34m\u001b[0m\u001b[0;34m\u001b[0m\u001b[0m\n\u001b[0m",
      "\u001b[0;32m~/.local/lib/python3.6/site-packages/pyspark/sql/dataframe.py\u001b[0m in \u001b[0;36mshow\u001b[0;34m(self, n, truncate, vertical)\u001b[0m\n\u001b[1;32m    492\u001b[0m \u001b[0;34m\u001b[0m\u001b[0m\n\u001b[1;32m    493\u001b[0m         \u001b[0;32mif\u001b[0m \u001b[0misinstance\u001b[0m\u001b[0;34m(\u001b[0m\u001b[0mtruncate\u001b[0m\u001b[0;34m,\u001b[0m \u001b[0mbool\u001b[0m\u001b[0;34m)\u001b[0m \u001b[0;32mand\u001b[0m \u001b[0mtruncate\u001b[0m\u001b[0;34m:\u001b[0m\u001b[0;34m\u001b[0m\u001b[0;34m\u001b[0m\u001b[0m\n\u001b[0;32m--> 494\u001b[0;31m             \u001b[0mprint\u001b[0m\u001b[0;34m(\u001b[0m\u001b[0mself\u001b[0m\u001b[0;34m.\u001b[0m\u001b[0m_jdf\u001b[0m\u001b[0;34m.\u001b[0m\u001b[0mshowString\u001b[0m\u001b[0;34m(\u001b[0m\u001b[0mn\u001b[0m\u001b[0;34m,\u001b[0m \u001b[0;36m20\u001b[0m\u001b[0;34m,\u001b[0m \u001b[0mvertical\u001b[0m\u001b[0;34m)\u001b[0m\u001b[0;34m)\u001b[0m\u001b[0;34m\u001b[0m\u001b[0;34m\u001b[0m\u001b[0m\n\u001b[0m\u001b[1;32m    495\u001b[0m         \u001b[0;32melse\u001b[0m\u001b[0;34m:\u001b[0m\u001b[0;34m\u001b[0m\u001b[0;34m\u001b[0m\u001b[0m\n\u001b[1;32m    496\u001b[0m             \u001b[0;32mtry\u001b[0m\u001b[0;34m:\u001b[0m\u001b[0;34m\u001b[0m\u001b[0;34m\u001b[0m\u001b[0m\n",
      "\u001b[0;32m~/.local/lib/python3.6/site-packages/py4j/java_gateway.py\u001b[0m in \u001b[0;36m__call__\u001b[0;34m(self, *args)\u001b[0m\n\u001b[1;32m   1308\u001b[0m         \u001b[0manswer\u001b[0m \u001b[0;34m=\u001b[0m \u001b[0mself\u001b[0m\u001b[0;34m.\u001b[0m\u001b[0mgateway_client\u001b[0m\u001b[0;34m.\u001b[0m\u001b[0msend_command\u001b[0m\u001b[0;34m(\u001b[0m\u001b[0mcommand\u001b[0m\u001b[0;34m)\u001b[0m\u001b[0;34m\u001b[0m\u001b[0;34m\u001b[0m\u001b[0m\n\u001b[1;32m   1309\u001b[0m         return_value = get_return_value(\n\u001b[0;32m-> 1310\u001b[0;31m             answer, self.gateway_client, self.target_id, self.name)\n\u001b[0m\u001b[1;32m   1311\u001b[0m \u001b[0;34m\u001b[0m\u001b[0m\n\u001b[1;32m   1312\u001b[0m         \u001b[0;32mfor\u001b[0m \u001b[0mtemp_arg\u001b[0m \u001b[0;32min\u001b[0m \u001b[0mtemp_args\u001b[0m\u001b[0;34m:\u001b[0m\u001b[0;34m\u001b[0m\u001b[0;34m\u001b[0m\u001b[0m\n",
      "\u001b[0;32m~/.local/lib/python3.6/site-packages/pyspark/sql/utils.py\u001b[0m in \u001b[0;36mdeco\u001b[0;34m(*a, **kw)\u001b[0m\n\u001b[1;32m    109\u001b[0m     \u001b[0;32mdef\u001b[0m \u001b[0mdeco\u001b[0m\u001b[0;34m(\u001b[0m\u001b[0;34m*\u001b[0m\u001b[0ma\u001b[0m\u001b[0;34m,\u001b[0m \u001b[0;34m**\u001b[0m\u001b[0mkw\u001b[0m\u001b[0;34m)\u001b[0m\u001b[0;34m:\u001b[0m\u001b[0;34m\u001b[0m\u001b[0;34m\u001b[0m\u001b[0m\n\u001b[1;32m    110\u001b[0m         \u001b[0;32mtry\u001b[0m\u001b[0;34m:\u001b[0m\u001b[0;34m\u001b[0m\u001b[0;34m\u001b[0m\u001b[0m\n\u001b[0;32m--> 111\u001b[0;31m             \u001b[0;32mreturn\u001b[0m \u001b[0mf\u001b[0m\u001b[0;34m(\u001b[0m\u001b[0;34m*\u001b[0m\u001b[0ma\u001b[0m\u001b[0;34m,\u001b[0m \u001b[0;34m**\u001b[0m\u001b[0mkw\u001b[0m\u001b[0;34m)\u001b[0m\u001b[0;34m\u001b[0m\u001b[0;34m\u001b[0m\u001b[0m\n\u001b[0m\u001b[1;32m    112\u001b[0m         \u001b[0;32mexcept\u001b[0m \u001b[0mpy4j\u001b[0m\u001b[0;34m.\u001b[0m\u001b[0mprotocol\u001b[0m\u001b[0;34m.\u001b[0m\u001b[0mPy4JJavaError\u001b[0m \u001b[0;32mas\u001b[0m \u001b[0me\u001b[0m\u001b[0;34m:\u001b[0m\u001b[0;34m\u001b[0m\u001b[0;34m\u001b[0m\u001b[0m\n\u001b[1;32m    113\u001b[0m             \u001b[0mconverted\u001b[0m \u001b[0;34m=\u001b[0m \u001b[0mconvert_exception\u001b[0m\u001b[0;34m(\u001b[0m\u001b[0me\u001b[0m\u001b[0;34m.\u001b[0m\u001b[0mjava_exception\u001b[0m\u001b[0;34m)\u001b[0m\u001b[0;34m\u001b[0m\u001b[0;34m\u001b[0m\u001b[0m\n",
      "\u001b[0;32m~/.local/lib/python3.6/site-packages/py4j/protocol.py\u001b[0m in \u001b[0;36mget_return_value\u001b[0;34m(answer, gateway_client, target_id, name)\u001b[0m\n\u001b[1;32m    326\u001b[0m                 raise Py4JJavaError(\n\u001b[1;32m    327\u001b[0m                     \u001b[0;34m\"An error occurred while calling {0}{1}{2}.\\n\"\u001b[0m\u001b[0;34m.\u001b[0m\u001b[0;34m\u001b[0m\u001b[0;34m\u001b[0m\u001b[0m\n\u001b[0;32m--> 328\u001b[0;31m                     format(target_id, \".\", name), value)\n\u001b[0m\u001b[1;32m    329\u001b[0m             \u001b[0;32melse\u001b[0m\u001b[0;34m:\u001b[0m\u001b[0;34m\u001b[0m\u001b[0;34m\u001b[0m\u001b[0m\n\u001b[1;32m    330\u001b[0m                 raise Py4JError(\n",
      "\u001b[0;31mPy4JJavaError\u001b[0m: An error occurred while calling o3227.showString.\n: org.apache.spark.SparkException: Job aborted due to stage failure: Task 4 in stage 326.0 failed 1 times, most recent failure: Lost task 4.0 in stage 326.0 (TID 22383) (sm1.dev.com executor driver): org.apache.spark.api.python.PythonException: Traceback (most recent call last):\n  File \"/opt/smicro/spark/spark-3.1.2-bin-hadoop3.2/python/lib/pyspark.zip/pyspark/worker.py\", line 604, in main\n    process()\n  File \"/opt/smicro/spark/spark-3.1.2-bin-hadoop3.2/python/lib/pyspark.zip/pyspark/worker.py\", line 596, in process\n    serializer.dump_stream(out_iter, outfile)\n  File \"/opt/smicro/spark/spark-3.1.2-bin-hadoop3.2/python/lib/pyspark.zip/pyspark/serializers.py\", line 259, in dump_stream\n    vs = list(itertools.islice(iterator, batch))\n  File \"/opt/smicro/spark/spark-3.1.2-bin-hadoop3.2/python/lib/pyspark.zip/pyspark/util.py\", line 73, in wrapper\n    return f(*args, **kwargs)\n  File \"/home/smicro/.local/lib/python3.6/site-packages/pyspark/sql/session.py\", line 682, in prepare\n    verify_func(obj)\n  File \"/home/smicro/.local/lib/python3.6/site-packages/pyspark/sql/types.py\", line 1411, in verify\n    verify_value(obj)\n  File \"/home/smicro/.local/lib/python3.6/site-packages/pyspark/sql/types.py\", line 1390, in verify_struct\n    \"length of fields (%d)\" % (len(obj), len(verifiers))))\nValueError: Length of object (2) does not match with length of fields (3)\n\n\tat org.apache.spark.api.python.BasePythonRunner$ReaderIterator.handlePythonException(PythonRunner.scala:517)\n\tat org.apache.spark.api.python.PythonRunner$$anon$3.read(PythonRunner.scala:652)\n\tat org.apache.spark.api.python.PythonRunner$$anon$3.read(PythonRunner.scala:635)\n\tat org.apache.spark.api.python.BasePythonRunner$ReaderIterator.hasNext(PythonRunner.scala:470)\n\tat org.apache.spark.InterruptibleIterator.hasNext(InterruptibleIterator.scala:37)\n\tat scala.collection.Iterator$$anon$11.hasNext(Iterator.scala:489)\n\tat scala.collection.Iterator$$anon$10.hasNext(Iterator.scala:458)\n\tat scala.collection.Iterator$$anon$10.hasNext(Iterator.scala:458)\n\tat org.apache.spark.sql.catalyst.expressions.GeneratedClass$GeneratedIteratorForCodegenStage1.processNext(Unknown Source)\n\tat org.apache.spark.sql.execution.BufferedRowIterator.hasNext(BufferedRowIterator.java:43)\n\tat org.apache.spark.sql.execution.WholeStageCodegenExec$$anon$1.hasNext(WholeStageCodegenExec.scala:755)\n\tat scala.collection.Iterator$$anon$10.hasNext(Iterator.scala:458)\n\tat org.apache.spark.shuffle.sort.BypassMergeSortShuffleWriter.write(BypassMergeSortShuffleWriter.java:132)\n\tat org.apache.spark.shuffle.ShuffleWriteProcessor.write(ShuffleWriteProcessor.scala:59)\n\tat org.apache.spark.scheduler.ShuffleMapTask.runTask(ShuffleMapTask.scala:99)\n\tat org.apache.spark.scheduler.ShuffleMapTask.runTask(ShuffleMapTask.scala:52)\n\tat org.apache.spark.scheduler.Task.run(Task.scala:131)\n\tat org.apache.spark.executor.Executor$TaskRunner.$anonfun$run$3(Executor.scala:497)\n\tat org.apache.spark.util.Utils$.tryWithSafeFinally(Utils.scala:1439)\n\tat org.apache.spark.executor.Executor$TaskRunner.run(Executor.scala:500)\n\tat java.util.concurrent.ThreadPoolExecutor.runWorker(ThreadPoolExecutor.java:1149)\n\tat java.util.concurrent.ThreadPoolExecutor$Worker.run(ThreadPoolExecutor.java:624)\n\tat java.lang.Thread.run(Thread.java:748)\n\nDriver stacktrace:\n\tat org.apache.spark.scheduler.DAGScheduler.failJobAndIndependentStages(DAGScheduler.scala:2258)\n\tat org.apache.spark.scheduler.DAGScheduler.$anonfun$abortStage$2(DAGScheduler.scala:2207)\n\tat org.apache.spark.scheduler.DAGScheduler.$anonfun$abortStage$2$adapted(DAGScheduler.scala:2206)\n\tat scala.collection.mutable.ResizableArray.foreach(ResizableArray.scala:62)\n\tat scala.collection.mutable.ResizableArray.foreach$(ResizableArray.scala:55)\n\tat scala.collection.mutable.ArrayBuffer.foreach(ArrayBuffer.scala:49)\n\tat org.apache.spark.scheduler.DAGScheduler.abortStage(DAGScheduler.scala:2206)\n\tat org.apache.spark.scheduler.DAGScheduler.$anonfun$handleTaskSetFailed$1(DAGScheduler.scala:1079)\n\tat org.apache.spark.scheduler.DAGScheduler.$anonfun$handleTaskSetFailed$1$adapted(DAGScheduler.scala:1079)\n\tat scala.Option.foreach(Option.scala:407)\n\tat org.apache.spark.scheduler.DAGScheduler.handleTaskSetFailed(DAGScheduler.scala:1079)\n\tat org.apache.spark.scheduler.DAGSchedulerEventProcessLoop.doOnReceive(DAGScheduler.scala:2445)\n\tat org.apache.spark.scheduler.DAGSchedulerEventProcessLoop.onReceive(DAGScheduler.scala:2387)\n\tat org.apache.spark.scheduler.DAGSchedulerEventProcessLoop.onReceive(DAGScheduler.scala:2376)\n\tat org.apache.spark.util.EventLoop$$anon$1.run(EventLoop.scala:49)\n\tat org.apache.spark.scheduler.DAGScheduler.runJob(DAGScheduler.scala:868)\n\tat org.apache.spark.SparkContext.runJob(SparkContext.scala:2196)\n\tat org.apache.spark.SparkContext.runJob(SparkContext.scala:2217)\n\tat org.apache.spark.SparkContext.runJob(SparkContext.scala:2236)\n\tat org.apache.spark.sql.execution.SparkPlan.executeTake(SparkPlan.scala:472)\n\tat org.apache.spark.sql.execution.SparkPlan.executeTake(SparkPlan.scala:425)\n\tat org.apache.spark.sql.execution.CollectLimitExec.executeCollect(limit.scala:47)\n\tat org.apache.spark.sql.Dataset.collectFromPlan(Dataset.scala:3696)\n\tat org.apache.spark.sql.Dataset.$anonfun$head$1(Dataset.scala:2722)\n\tat org.apache.spark.sql.Dataset.$anonfun$withAction$1(Dataset.scala:3687)\n\tat org.apache.spark.sql.execution.SQLExecution$.$anonfun$withNewExecutionId$5(SQLExecution.scala:103)\n\tat org.apache.spark.sql.execution.SQLExecution$.withSQLConfPropagated(SQLExecution.scala:163)\n\tat org.apache.spark.sql.execution.SQLExecution$.$anonfun$withNewExecutionId$1(SQLExecution.scala:90)\n\tat org.apache.spark.sql.SparkSession.withActive(SparkSession.scala:775)\n\tat org.apache.spark.sql.execution.SQLExecution$.withNewExecutionId(SQLExecution.scala:64)\n\tat org.apache.spark.sql.Dataset.withAction(Dataset.scala:3685)\n\tat org.apache.spark.sql.Dataset.head(Dataset.scala:2722)\n\tat org.apache.spark.sql.Dataset.take(Dataset.scala:2929)\n\tat org.apache.spark.sql.Dataset.getRows(Dataset.scala:301)\n\tat org.apache.spark.sql.Dataset.showString(Dataset.scala:338)\n\tat sun.reflect.NativeMethodAccessorImpl.invoke0(Native Method)\n\tat sun.reflect.NativeMethodAccessorImpl.invoke(NativeMethodAccessorImpl.java:62)\n\tat sun.reflect.DelegatingMethodAccessorImpl.invoke(DelegatingMethodAccessorImpl.java:43)\n\tat java.lang.reflect.Method.invoke(Method.java:498)\n\tat py4j.reflection.MethodInvoker.invoke(MethodInvoker.java:244)\n\tat py4j.reflection.ReflectionEngine.invoke(ReflectionEngine.java:357)\n\tat py4j.Gateway.invoke(Gateway.java:282)\n\tat py4j.commands.AbstractCommand.invokeMethod(AbstractCommand.java:132)\n\tat py4j.commands.CallCommand.execute(CallCommand.java:79)\n\tat py4j.GatewayConnection.run(GatewayConnection.java:238)\n\tat java.lang.Thread.run(Thread.java:748)\nCaused by: org.apache.spark.api.python.PythonException: Traceback (most recent call last):\n  File \"/opt/smicro/spark/spark-3.1.2-bin-hadoop3.2/python/lib/pyspark.zip/pyspark/worker.py\", line 604, in main\n    process()\n  File \"/opt/smicro/spark/spark-3.1.2-bin-hadoop3.2/python/lib/pyspark.zip/pyspark/worker.py\", line 596, in process\n    serializer.dump_stream(out_iter, outfile)\n  File \"/opt/smicro/spark/spark-3.1.2-bin-hadoop3.2/python/lib/pyspark.zip/pyspark/serializers.py\", line 259, in dump_stream\n    vs = list(itertools.islice(iterator, batch))\n  File \"/opt/smicro/spark/spark-3.1.2-bin-hadoop3.2/python/lib/pyspark.zip/pyspark/util.py\", line 73, in wrapper\n    return f(*args, **kwargs)\n  File \"/home/smicro/.local/lib/python3.6/site-packages/pyspark/sql/session.py\", line 682, in prepare\n    verify_func(obj)\n  File \"/home/smicro/.local/lib/python3.6/site-packages/pyspark/sql/types.py\", line 1411, in verify\n    verify_value(obj)\n  File \"/home/smicro/.local/lib/python3.6/site-packages/pyspark/sql/types.py\", line 1390, in verify_struct\n    \"length of fields (%d)\" % (len(obj), len(verifiers))))\nValueError: Length of object (2) does not match with length of fields (3)\n\n\tat org.apache.spark.api.python.BasePythonRunner$ReaderIterator.handlePythonException(PythonRunner.scala:517)\n\tat org.apache.spark.api.python.PythonRunner$$anon$3.read(PythonRunner.scala:652)\n\tat org.apache.spark.api.python.PythonRunner$$anon$3.read(PythonRunner.scala:635)\n\tat org.apache.spark.api.python.BasePythonRunner$ReaderIterator.hasNext(PythonRunner.scala:470)\n\tat org.apache.spark.InterruptibleIterator.hasNext(InterruptibleIterator.scala:37)\n\tat scala.collection.Iterator$$anon$11.hasNext(Iterator.scala:489)\n\tat scala.collection.Iterator$$anon$10.hasNext(Iterator.scala:458)\n\tat scala.collection.Iterator$$anon$10.hasNext(Iterator.scala:458)\n\tat org.apache.spark.sql.catalyst.expressions.GeneratedClass$GeneratedIteratorForCodegenStage1.processNext(Unknown Source)\n\tat org.apache.spark.sql.execution.BufferedRowIterator.hasNext(BufferedRowIterator.java:43)\n\tat org.apache.spark.sql.execution.WholeStageCodegenExec$$anon$1.hasNext(WholeStageCodegenExec.scala:755)\n\tat scala.collection.Iterator$$anon$10.hasNext(Iterator.scala:458)\n\tat org.apache.spark.shuffle.sort.BypassMergeSortShuffleWriter.write(BypassMergeSortShuffleWriter.java:132)\n\tat org.apache.spark.shuffle.ShuffleWriteProcessor.write(ShuffleWriteProcessor.scala:59)\n\tat org.apache.spark.scheduler.ShuffleMapTask.runTask(ShuffleMapTask.scala:99)\n\tat org.apache.spark.scheduler.ShuffleMapTask.runTask(ShuffleMapTask.scala:52)\n\tat org.apache.spark.scheduler.Task.run(Task.scala:131)\n\tat org.apache.spark.executor.Executor$TaskRunner.$anonfun$run$3(Executor.scala:497)\n\tat org.apache.spark.util.Utils$.tryWithSafeFinally(Utils.scala:1439)\n\tat org.apache.spark.executor.Executor$TaskRunner.run(Executor.scala:500)\n\tat java.util.concurrent.ThreadPoolExecutor.runWorker(ThreadPoolExecutor.java:1149)\n\tat java.util.concurrent.ThreadPoolExecutor$Worker.run(ThreadPoolExecutor.java:624)\n\t... 1 more\n"
     ]
    }
   ],
   "source": [
    "\n",
    "#STEP-13 predictions with validation data  # failure # label\n",
    "predictions = rfModel.transform(validation_dataset1)\n",
    "final1=predictions.select('model', 'failure', 'rawPrediction', 'prediction', 'probability')\n",
    "#row_number = final1.count()\n",
    "#row_number\n",
    "from pyspark.sql.types import LongType\n",
    "from pyspark.sql import Row\n",
    "def zipindexdf(df):\n",
    "    schema_new = df.schema.add(\"index\", LongType(), False)\n",
    "    return df.rdd.zipWithIndex().map(lambda l: list(l[0]) + [l[1]]).toDF(schema_new)\n",
    "\n",
    "validation_serial_number_index = zipindexdf(validation_serial_number)\n",
    "#validation_serial_number_index.show()\n",
    "final1_index = zipindexdf(final1)\n",
    "#final_index.show()\n",
    "final1_model_results = validation_serial_number_index.join(final1_index, \"index\", \"inner\")\n",
    "final1_model_results = final1_model_results.withColumnRenamed(\"rawPrediction\", \"Confidence_Level\")\n",
    "final1_model_results.show()"
   ]
  },
  {
   "cell_type": "code",
   "execution_count": null,
   "metadata": {},
   "outputs": [],
   "source": [
    "# STEP-14 Download the predictions results\n",
    "pandasDF = final1_model_results.toPandas()\n",
    "#pandasDF.label.replace((0, 1), ('Active', 'fail'), inplace=True)\n",
    "pandasDF.failure.replace((0, 1), ('Active', 'fail'), inplace=True)\n",
    "pandasDF.prediction.replace((0, 1), ('Active', 'Predicted_to_be_fail'), inplace=True)\n",
    "\n",
    "pandasDF['Confidence_Level'] = pandasDF['Confidence_Level'].astype('str')\n",
    "pandasDF['probability'] = pandasDF['probability'].astype('str')\n",
    "Confidence_Level=pandasDF['Confidence_Level'].str.split(',', expand=True)\n",
    "pandasDF = pandasDF.join(Confidence_Level).drop(1, axis=1)\n",
    "pandasDF = pandasDF.drop(['Confidence_Level'], 1)\n",
    "pandasDF.rename(columns = {0:'Confidence_Level'}, inplace = True)\n",
    "probability1=pandasDF['probability'].str.split(',', expand=True)\n",
    "probability1.rename(columns = {0:'Active_Probability'}, inplace = True)\n",
    "probability1.rename(columns = {1:'Failure_Probability'}, inplace = True)\n",
    "pandasDF = pandasDF.join(probability1)\n",
    "pandasDF = pandasDF.drop(['probability'], 1)\n",
    "pandasDF = pandasDF.drop(['index'], 1)\n",
    "pandasDF.rename(columns = {'serial_number':'Serial_Number'}, inplace = True)\n",
    "pandasDF.rename(columns = {'model':'Model'}, inplace = True)\n",
    "pandasDF.rename(columns = {'label':'Actaul'}, inplace = True)\n",
    "pandasDF.rename(columns = {'prediction':'Prediction'}, inplace = True)\n",
    "pandasDF=pandasDF.replace('\\]','',regex=True).astype(str)\n",
    "pandasDF=pandasDF.replace('\\[','',regex=True).astype(str)\n",
    "\n",
    "#pandasDF=pandasDF.groupby(['Serial_Number']).min()\n",
    "\n",
    "pandasDF.sort_values(by=['Prediction'], inplace=True, ascending=False)\n",
    "pandasDF.sort_values(by=['Active_Probability'], inplace=True)\n",
    "# download csv file \n",
    "pandasDF.to_csv(r'E:\\home\\smicro\\ML-Ganesh\\modelPrediction\\Prediction_Results.csv')\n",
    "# download excel file \n",
    "#pandasDF = final1_model_results.toPandas()\n",
    "writer = pd.ExcelWriter(\"Prediction_Results_ML.xlsx\")\n",
    "pandasDF.to_excel(excel_writer=writer, sheet_name='Sheet1', na_rep=\"\")\n",
    "writer.save()"
   ]
  },
  {
   "cell_type": "code",
   "execution_count": null,
   "metadata": {},
   "outputs": [],
   "source": [
    "#############################################################################################################"
   ]
  },
  {
   "cell_type": "code",
   "execution_count": null,
   "metadata": {},
   "outputs": [],
   "source": [
    "#STEP-11 model 4 GBTClassifier\n",
    "from pyspark.ml.classification import GBTClassifier\n",
    "gbt = GBTClassifier(featuresCol = 'features', labelCol = 'failure', maxIter=10)\n",
    "gbtModel = gbt.fit(train)\n",
    "\n",
    "#from pyspark.ml.classification import GBTClassifier\n",
    "#gbt = GBTClassifier(maxIter=10)\n",
    "#gbtModel = gbt.fit(train)\n",
    "#predictions = gbtModel.transform(test)\n",
    "#predictions3=predictions.select('model', 'failure', 'rawPrediction', 'prediction', 'probability')\n",
    "#predictions3.show(10)\n",
    "\n"
   ]
  },
  {
   "cell_type": "code",
   "execution_count": 14,
   "metadata": {},
   "outputs": [
    {
     "name": "stdout",
     "output_type": "stream",
     "text": [
      "0.9997860657491264 0.9997666277712952 0.9998833002684094 0.9998249606161387 0.9997582984657045\n"
     ]
    }
   ],
   "source": [
    "#STEP-12 accuracy of the GBTClassifier \n",
    "import numpy as np\n",
    "from sklearn.metrics import accuracy_score, precision_score, recall_score, roc_auc_score, f1_score\n",
    "\n",
    "# Make predicitons\n",
    "predictionAndTarget = gbtModel.transform(test).select(\"failure\", \"prediction\")\n",
    "\n",
    "predictionAndTargetNumpy = np.array((predictionAndTarget.collect()))\n",
    "\n",
    "acc = accuracy_score(predictionAndTargetNumpy[:,0], predictionAndTargetNumpy[:,1])\n",
    "f1 = f1_score(predictionAndTargetNumpy[:,0], predictionAndTargetNumpy[:,1])\n",
    "precision = precision_score(predictionAndTargetNumpy[:,0], predictionAndTargetNumpy[:,1])\n",
    "recall = recall_score(predictionAndTargetNumpy[:,0], predictionAndTargetNumpy[:,1])\n",
    "auc = roc_auc_score(predictionAndTargetNumpy[:,0], predictionAndTargetNumpy[:,1])\n",
    "print(acc,precision,recall,f1,auc) # GBTClassifier"
   ]
  },
  {
   "cell_type": "code",
   "execution_count": 15,
   "metadata": {
    "scrolled": true
   },
   "outputs": [
    {
     "name": "stdout",
     "output_type": "stream",
     "text": [
      "+-----+---------------+--------------------+-------+--------------------+----------+--------------------+\n",
      "|index|  serial_number|               model|failure|    Confidence_Level|prediction|         probability|\n",
      "+-----+---------------+--------------------+-------+--------------------+----------+--------------------+\n",
      "|   26| MK0371YHK3Y4MG|Hitachi HUA723030...|      0|[1.32590267922033...|       0.0|[0.93412217565278...|\n",
      "|   29|       Z1Y45E7R| ST3000NM0033-9ZM178|      0|[1.32590267922033...|       0.0|[0.93412217565278...|\n",
      "|  474| MK0271YGJA4WUA|Hitachi HUA723020...|      0|[1.32590267922033...|       0.0|[0.93412217565278...|\n",
      "|   65|       Z1Y45RA5| ST3000NM0033-9ZM178|      0|[1.32590267922033...|       0.0|[0.93412217565278...|\n",
      "|  191|WD-WCAYU8376963|WDC WD5002AALX-00...|      0|[1.32590267922033...|       0.0|[0.93412217565278...|\n",
      "|  418|       Z4D07P8Q| ST6000NM0024-1HT17Z|      0|[1.32590267922033...|       0.0|[0.93412217565278...|\n",
      "|  541|       Z1Y44P79| ST3000NM0033-9ZM178|      0|[1.32590267922033...|       0.0|[0.93412217565278...|\n",
      "|  558|       Z1Y45RA5| ST3000NM0033-9ZM178|      0|[1.32590267922033...|       0.0|[0.93412217565278...|\n",
      "|  222| MK0371YHK9UKNA|Hitachi HUA723030...|      0|[1.32590267922033...|       0.0|[0.93412217565278...|\n",
      "|  270|WD-WCC130857764|WDC WD4000FYYZ-01...|      0|[1.32590267922033...|       0.0|[0.93412217565278...|\n",
      "|  293|       Z1Y44P79| ST3000NM0033-9ZM178|      0|[1.32590267922033...|       0.0|[0.93412217565278...|\n",
      "|  243|WD-WCC5Z0010781|WDC WD500VF4PZ-49...|      0|[1.32590267922033...|       0.0|[0.93412217565278...|\n",
      "|  278| MK0171YFJMN9AA|Hitachi HUA723020...|      0|[1.32590267922033...|       0.0|[0.93412217565278...|\n",
      "|  367|WD-WCAYU8376963|WDC WD5002AALX-00...|      0|[1.32590267922033...|       0.0|[0.93412217565278...|\n",
      "|  442| MK0371YHK3Y4MG|Hitachi HUA723030...|      0|[1.32590267922033...|       0.0|[0.93412217565278...|\n",
      "|   19| MK0371YHJXMPJA|Hitachi HUA723030...|      0|[1.32590267922033...|       0.0|[0.93412217565278...|\n",
      "|   54|WD-WCAVY0102873|WDC WD2002FYPS-01...|      0|[1.32590267922033...|       0.0|[0.93412217565278...|\n",
      "|  296|WD-WCC5ZLX9VCEY|WDC WD500VF4PZ-49...|      0|[1.32590267922033...|       0.0|[0.93412217565278...|\n",
      "|    0|WD-WCAYU8376963|WDC WD5002AALX-00...|      0|[1.32590267922033...|       0.0|[0.93412217565278...|\n",
      "|  277| MK0371YHK9UKNA|Hitachi HUA723030...|      0|[1.32590267922033...|       0.0|[0.93412217565278...|\n",
      "+-----+---------------+--------------------+-------+--------------------+----------+--------------------+\n",
      "only showing top 20 rows\n",
      "\n"
     ]
    }
   ],
   "source": [
    "#STEP-13 predictions with validation data  # failure # label\n",
    "predictions = gbtModel.transform(validation_dataset1)\n",
    "final1=predictions.select('model', 'failure', 'rawPrediction', 'prediction', 'probability')\n",
    "#row_number = final1.count()\n",
    "#row_number\n",
    "from pyspark.sql.types import LongType\n",
    "from pyspark.sql import Row\n",
    "def zipindexdf(df):\n",
    "    schema_new = df.schema.add(\"index\", LongType(), False)\n",
    "    return df.rdd.zipWithIndex().map(lambda l: list(l[0]) + [l[1]]).toDF(schema_new)\n",
    "\n",
    "validation_serial_number_index = zipindexdf(validation_serial_number)\n",
    "#validation_serial_number_index.show()\n",
    "final1_index = zipindexdf(final1)\n",
    "#final_index.show()\n",
    "final1_model_results = validation_serial_number_index.join(final1_index, \"index\", \"inner\")\n",
    "final1_model_results = final1_model_results.withColumnRenamed(\"rawPrediction\", \"Confidence_Level\")\n",
    "final1_model_results.show()"
   ]
  },
  {
   "cell_type": "code",
   "execution_count": 16,
   "metadata": {},
   "outputs": [],
   "source": [
    "# STEP-14 Download the predictions results\n",
    "pandasDF = final1_model_results.toPandas()\n",
    "#pandasDF.label.replace((0, 1), ('Active', 'fail'), inplace=True)\n",
    "pandasDF.failure.replace((0, 1), ('Active', 'fail'), inplace=True)\n",
    "pandasDF.prediction.replace((0, 1), ('Active', 'Predicted_to_be_fail'), inplace=True)\n",
    "\n",
    "pandasDF['Confidence_Level'] = pandasDF['Confidence_Level'].astype('str')\n",
    "pandasDF['probability'] = pandasDF['probability'].astype('str')\n",
    "Confidence_Level=pandasDF['Confidence_Level'].str.split(',', expand=True)\n",
    "pandasDF = pandasDF.join(Confidence_Level).drop(1, axis=1)\n",
    "pandasDF = pandasDF.drop(['Confidence_Level'], 1)\n",
    "pandasDF.rename(columns = {0:'Confidence_Level'}, inplace = True)\n",
    "probability1=pandasDF['probability'].str.split(',', expand=True)\n",
    "probability1.rename(columns = {0:'Active_Probability'}, inplace = True)\n",
    "probability1.rename(columns = {1:'Failure_Probability'}, inplace = True)\n",
    "pandasDF = pandasDF.join(probability1)\n",
    "pandasDF = pandasDF.drop(['probability'], 1)\n",
    "pandasDF = pandasDF.drop(['index'], 1)\n",
    "pandasDF.rename(columns = {'serial_number':'Serial_Number'}, inplace = True)\n",
    "pandasDF.rename(columns = {'model':'Model'}, inplace = True)\n",
    "pandasDF.rename(columns = {'label':'Actaul'}, inplace = True)\n",
    "pandasDF.rename(columns = {'prediction':'Prediction'}, inplace = True)\n",
    "pandasDF=pandasDF.replace('\\]','',regex=True).astype(str)\n",
    "pandasDF=pandasDF.replace('\\[','',regex=True).astype(str)\n",
    "\n",
    "#pandasDF=pandasDF.groupby(['Serial_Number']).min()\n",
    "\n",
    "pandasDF.sort_values(by=['Prediction'], inplace=True, ascending=False)\n",
    "pandasDF.sort_values(by=['Active_Probability'], inplace=True)\n",
    "# download csv file \n",
    "pandasDF.to_csv(r'E:\\home\\smicro\\ML-Ganesh\\modelPrediction\\Prediction_Results.csv')\n",
    "# download excel file \n",
    "#pandasDF = final1_model_results.toPandas()\n",
    "writer = pd.ExcelWriter(\"Prediction_Results_ML.xlsx\")\n",
    "pandasDF.to_excel(excel_writer=writer, sheet_name='Sheet1', na_rep=\"\")\n",
    "writer.save()"
   ]
  },
  {
   "cell_type": "code",
   "execution_count": null,
   "metadata": {},
   "outputs": [],
   "source": [
    "#####################################################"
   ]
  },
  {
   "cell_type": "code",
   "execution_count": 34,
   "metadata": {},
   "outputs": [
    {
     "name": "stdout",
     "output_type": "stream",
     "text": [
      "0.9858523065965797 1.0 0.8178056926374557 0.8997723969616366 0.9089028463187279\n"
     ]
    }
   ],
   "source": [
    "#STEP-12 accuracy of the lsvc  / lsvcModel\n",
    "import numpy as np\n",
    "from sklearn.metrics import accuracy_score, precision_score, recall_score, roc_auc_score, f1_score\n",
    "\n",
    "# Make predicitons\n",
    "predictionAndTarget = lsvcModel.transform(test).select(\"failure\", \"prediction\")\n",
    "\n",
    "predictionAndTargetNumpy = np.array((predictionAndTarget.collect()))\n",
    "\n",
    "acc = accuracy_score(predictionAndTargetNumpy[:,0], predictionAndTargetNumpy[:,1])\n",
    "f1 = f1_score(predictionAndTargetNumpy[:,0], predictionAndTargetNumpy[:,1])\n",
    "precision = precision_score(predictionAndTargetNumpy[:,0], predictionAndTargetNumpy[:,1])\n",
    "recall = recall_score(predictionAndTargetNumpy[:,0], predictionAndTargetNumpy[:,1])\n",
    "auc = roc_auc_score(predictionAndTargetNumpy[:,0], predictionAndTargetNumpy[:,1])\n",
    "print(acc,precision,recall,f1,auc) # lsvcModel"
   ]
  },
  {
   "cell_type": "code",
   "execution_count": 49,
   "metadata": {},
   "outputs": [
    {
     "name": "stdout",
     "output_type": "stream",
     "text": [
      "+-----+------------------+--------------------+-----+--------------------+----------+\n",
      "|index|     serial_number|               model|label|       rawPrediction|prediction|\n",
      "+-----+------------------+--------------------+-----+--------------------+----------+\n",
      "|   26|    MK0371YHJXMPJA|Hitachi HUA723030...|  0.0|[1.15591572843796...|       0.0|\n",
      "|   29|    MK0371YHKB6XZA|Hitachi HUA723030...|  0.0|[0.35146291852612...|       0.0|\n",
      "|   65|          Z1Y45DJ1| ST3000NM0033-9ZM178|  0.0|[1.22682561455471...|       0.0|\n",
      "|   19|    MK0371YHK3Y4MG|Hitachi HUA723030...|  0.0|[1.15626020100840...|       0.0|\n",
      "|   54|    MK0371YHKB65WA|Hitachi HUA723030...|  0.0|[1.15389461796547...|       0.0|\n",
      "|    0|CVPR223400LU040AGN| INTEL SSDSA2BT040G3|  0.0|[1.21009488313041...|       0.0|\n",
      "|   22|    MK0371YHKAN7BG|Hitachi HUA723030...|  0.0|[1.15486206407390...|       0.0|\n",
      "|    7|    MK0351YHG5EBTA|Hitachi HUA723030...|  0.0|[1.16845546207702...|       0.0|\n",
      "|   77|    MK0371YHKBGUVA|Hitachi HUA723030...|  0.0|[1.15884081220164...|       0.0|\n",
      "|   34|          Z1Y45DJ1| ST3000NM0033-9ZM178|  0.0|[1.22682561455509...|       0.0|\n",
      "|   50|    MK0371YHK3Y4MG|Hitachi HUA723030...|  0.0|[1.15626020100840...|       0.0|\n",
      "|   94|      3511K05DFTMB| TOSHIBA MG04ACA600E|  0.0|[0.86858116917548...|       0.0|\n",
      "|   57|    MK0371YHJXMPJA|Hitachi HUA723030...|  0.0|[1.15591572843796...|       0.0|\n",
      "|   32|      3511K05DFTMB| TOSHIBA MG04ACA600E|  0.0|[0.86858116917548...|       0.0|\n",
      "|   43|    MK0371YHKB457A|Hitachi HUA723030...|  0.0|[1.15450595591666...|       0.0|\n",
      "|   84|    MK0371YHKAN7BG|Hitachi HUA723030...|  0.0|[1.15486206407390...|       0.0|\n",
      "|   31|CVPR223400LU040AGN| INTEL SSDSA2BT040G3|  0.0|[1.21009488313041...|       0.0|\n",
      "|   39|          Z1Y44NLQ| ST3000NM0033-9ZM178|  0.0|[1.24630056080452...|       0.0|\n",
      "|   98|   WD-WCC5Z0012901|WDC WD500VF4PZ-49...|  0.0|[1.62500958201501...|       0.0|\n",
      "|   25|    MK0371YHK9UKNA|Hitachi HUA723030...|  0.0|[1.15332868755522...|       0.0|\n",
      "+-----+------------------+--------------------+-----+--------------------+----------+\n",
      "only showing top 20 rows\n",
      "\n"
     ]
    }
   ],
   "source": [
    "#STEP-13 predictions with validation data  # failure # label\n",
    "predictions = lsvcModel.transform(validation_dataset1)\n",
    "final1=predictions.select('model', 'failure', 'rawPrediction', 'prediction', 'probability')\n",
    "#row_number = final1.count()\n",
    "#row_number\n",
    "from pyspark.sql.types import LongType\n",
    "from pyspark.sql import Row\n",
    "def zipindexdf(df):\n",
    "    schema_new = df.schema.add(\"index\", LongType(), False)\n",
    "    return df.rdd.zipWithIndex().map(lambda l: list(l[0]) + [l[1]]).toDF(schema_new)\n",
    "\n",
    "validation_serial_number_index = zipindexdf(validation_serial_number)\n",
    "#validation_serial_number_index.show()\n",
    "final1_index = zipindexdf(final1)\n",
    "#final_index.show()\n",
    "final1_model_results = validation_serial_number_index.join(final1_index, \"index\", \"inner\")\n",
    "final1_model_results = final1_model_results.withColumnRenamed(\"rawPrediction\", \"Confidence_Level\")\n",
    "final1_model_results.show()"
   ]
  },
  {
   "cell_type": "code",
   "execution_count": null,
   "metadata": {},
   "outputs": [],
   "source": [
    "# STEP-14 Download the predictions results\n",
    "pandasDF = final1_model_results.toPandas()\n",
    "#pandasDF.label.replace((0, 1), ('Active', 'fail'), inplace=True)\n",
    "pandasDF.failure.replace((0, 1), ('Active', 'fail'), inplace=True)\n",
    "pandasDF.prediction.replace((0, 1), ('Active', 'Predicted_to_be_fail'), inplace=True)\n",
    "\n",
    "pandasDF['Confidence_Level'] = pandasDF['Confidence_Level'].astype('str')\n",
    "pandasDF['probability'] = pandasDF['probability'].astype('str')\n",
    "Confidence_Level=pandasDF['Confidence_Level'].str.split(',', expand=True)\n",
    "pandasDF = pandasDF.join(Confidence_Level).drop(1, axis=1)\n",
    "pandasDF = pandasDF.drop(['Confidence_Level'], 1)\n",
    "pandasDF.rename(columns = {0:'Confidence_Level'}, inplace = True)\n",
    "probability1=pandasDF['probability'].str.split(',', expand=True)\n",
    "probability1.rename(columns = {0:'Active_Probability'}, inplace = True)\n",
    "probability1.rename(columns = {1:'Failure_Probability'}, inplace = True)\n",
    "pandasDF = pandasDF.join(probability1)\n",
    "pandasDF = pandasDF.drop(['probability'], 1)\n",
    "pandasDF = pandasDF.drop(['index'], 1)\n",
    "pandasDF.rename(columns = {'serial_number':'Serial_Number'}, inplace = True)\n",
    "pandasDF.rename(columns = {'model':'Model'}, inplace = True)\n",
    "pandasDF.rename(columns = {'label':'Actaul'}, inplace = True)\n",
    "pandasDF.rename(columns = {'prediction':'Prediction'}, inplace = True)\n",
    "pandasDF=pandasDF.replace('\\]','',regex=True).astype(str)\n",
    "pandasDF=pandasDF.replace('\\[','',regex=True).astype(str)\n",
    "\n",
    "#pandasDF=pandasDF.groupby(['Serial_Number']).min()\n",
    "\n",
    "pandasDF.sort_values(by=['Prediction'], inplace=True, ascending=False)\n",
    "pandasDF.sort_values(by=['Active_Probability'], inplace=True)\n",
    "# download csv file \n",
    "pandasDF.to_csv(r'E:\\home\\smicro\\ML-Ganesh\\modelPrediction\\Prediction_Results.csv')\n",
    "# download excel file \n",
    "#pandasDF = final1_model_results.toPandas()\n",
    "writer = pd.ExcelWriter(\"Prediction_Results_ML.xlsx\")\n",
    "pandasDF.to_excel(excel_writer=writer, sheet_name='Sheet1', na_rep=\"\")\n",
    "writer.save()"
   ]
  },
  {
   "cell_type": "code",
   "execution_count": null,
   "metadata": {},
   "outputs": [],
   "source": [
    "####################################################################"
   ]
  },
  {
   "cell_type": "code",
   "execution_count": 13,
   "metadata": {},
   "outputs": [
    {
     "name": "stderr",
     "output_type": "stream",
     "text": [
      "/home/smicro/.local/lib/python3.6/site-packages/pyspark/sql/context.py:127: FutureWarning: Deprecated in 3.0.0. Use SparkSession.builder.getOrCreate() instead.\n",
      "  FutureWarning\n"
     ]
    },
    {
     "data": {
      "image/png": "[encoded data removed]",
      "text/plain": [
       "<Figure size 432x288 with 1 Axes>"
      ]
     },
     "metadata": {
      "needs_background": "light"
     },
     "output_type": "display_data"
    },
    {
     "name": "stdout",
     "output_type": "stream",
     "text": [
      "Training set areaUnderROC: 0.9938394909074526\n"
     ]
    }
   ],
   "source": [
    "# model tuning ROC\n",
    "trainingSummary = lrModel.summary\n",
    "roc = trainingSummary.roc.toPandas()\n",
    "plt.plot(roc['FPR'],roc['TPR'])\n",
    "plt.ylabel('False Positive Rate')\n",
    "plt.xlabel('True Positive Rate')\n",
    "plt.title('ROC Curve')\n",
    "plt.show()\n",
    "print('Training set areaUnderROC: ' + str(trainingSummary.areaUnderROC))"
   ]
  },
  {
   "cell_type": "code",
   "execution_count": null,
   "metadata": {},
   "outputs": [],
   "source": [
    "# model tuning ROC\n",
    "from pyspark.ml.evaluation import BinaryClassificationEvaluator\n",
    "evaluator = BinaryClassificationEvaluator()\n",
    "print('Test Area Under ROC', evaluator.evaluate(predictions))"
   ]
  },
  {
   "cell_type": "code",
   "execution_count": 14,
   "metadata": {
    "scrolled": false
   },
   "outputs": [
    {
     "name": "stderr",
     "output_type": "stream",
     "text": [
      "/home/smicro/.local/lib/python3.6/site-packages/pyspark/sql/context.py:127: FutureWarning: Deprecated in 3.0.0. Use SparkSession.builder.getOrCreate() instead.\n",
      "  FutureWarning\n"
     ]
    },
    {
     "data": {
      "image/png": "[encoded data removed]",
      "text/plain": [
       "<Figure size 432x288 with 1 Axes>"
      ]
     },
     "metadata": {
      "needs_background": "light"
     },
     "output_type": "display_data"
    }
   ],
   "source": [
    "# model tuning # Precision & Recall\n",
    "pr = trainingSummary.pr.toPandas()\n",
    "plt.plot(pr['recall'],pr['precision'])\n",
    "plt.ylabel('Precision')\n",
    "plt.xlabel('Recall')\n",
    "plt.show()"
   ]
  },
  {
   "cell_type": "code",
   "execution_count": null,
   "metadata": {},
   "outputs": [],
   "source": [
    "# ANN model https://spark.apache.org/docs/latest/api/python/reference/api/pyspark.ml.classification.MultilayerPerceptronClassifier.html\n",
    "from pyspark.ml.linalg import Vectors\n",
    "from pyspark.ml.classification import MultilayerPerceptronClassifier\n",
    "mlp = MultilayerPerceptronClassifier(layers=[2, 2, 2], seed=123)\n",
    "mlp.setMaxIter(100)\n",
    "mlp.getMaxIter()\n",
    "mlp.getBlockSize()\n",
    "mlp.setBlockSize(1)\n",
    "model = mlp.fit(train)\n",
    "\n",
    "model.setFeaturesCol(\"features\")\n",
    "\n",
    "model.transform(testDF).select(\"features\", \"prediction\").show()\n",
    "#mlpc=MultilayerPerceptronClassifier(featuresCol=’features’,labelCol=’label‘,layers = [4,16,2],\\\n",
    "       #                             maxIter=1000,blockSize=8,seed=7,solver=’gd’)\n",
    "\n",
    "#mlpc=MultilayerPerceptronClassifier(featuresCol='features',labelCol='label',layers = [4,16,2],\\\n",
    "           #                         maxIter=1000,blockSize=8,seed=7,solver=’gd’)\n",
    "    \n",
    "#from pyspark.ml.classification import MLPClassifier\n",
    "\n",
    "####mlpc=MultilayerPerceptronClassifier(featuresCol='features',labelCol='label')\n",
    "#ann = mlpc.fit(train)\n",
    "\n",
    "\n",
    "#from pyspark.ml.classification import GBTClassifier\n",
    "#gbt = GBTClassifier(maxIter=10)\n",
    "#gbtModel = gbt.fit(train)\n",
    "\n",
    "#from pyspark.ml.classification import RandomForestClassifier\n",
    "#rf = RandomForestClassifier(featuresCol = 'features', labelCol = 'label')\n",
    "#rfModel = rf.fit(train)\n",
    "#pred = ann.transform(validation_dataset1)\n",
    "#evaluator = MulticlassClassificationEvaluator(labelCol='Class ',predictionCol='prediction',metricName='f1')\n",
    "#ann_f1 = evaluator.evaluate(pred)\n",
    "#ann_f1"
   ]
  },
  {
   "cell_type": "code",
   "execution_count": 48,
   "metadata": {},
   "outputs": [],
   "source": [
    "model.setFeaturesCol(\"features\")"
   ]
  },
  {
   "cell_type": "code",
   "execution_count": 51,
   "metadata": {},
   "outputs": [
    {
     "ename": "Py4JJavaError",
     "evalue": "An error occurred while calling o1950.fit.\n: java.util.NoSuchElementException: Failed to find a default value for layers\n\tat org.apache.spark.ml.param.Params.$anonfun$getOrDefault$2(params.scala:756)\n\tat scala.Option.getOrElse(Option.scala:189)\n\tat org.apache.spark.ml.param.Params.getOrDefault(params.scala:756)\n\tat org.apache.spark.ml.param.Params.getOrDefault$(params.scala:753)\n\tat org.apache.spark.ml.PipelineStage.getOrDefault(Pipeline.scala:41)\n\tat org.apache.spark.ml.param.Params.$(params.scala:762)\n\tat org.apache.spark.ml.param.Params.$$(params.scala:762)\n\tat org.apache.spark.ml.PipelineStage.$(Pipeline.scala:41)\n\tat org.apache.spark.ml.classification.MultilayerPerceptronClassifier.$anonfun$train$1(MultilayerPerceptronClassifier.scala:190)\n\tat org.apache.spark.ml.util.Instrumentation$.$anonfun$instrumented$1(Instrumentation.scala:191)\n\tat scala.util.Try$.apply(Try.scala:213)\n\tat org.apache.spark.ml.util.Instrumentation$.instrumented(Instrumentation.scala:191)\n\tat org.apache.spark.ml.classification.MultilayerPerceptronClassifier.train(MultilayerPerceptronClassifier.scala:184)\n\tat org.apache.spark.ml.classification.MultilayerPerceptronClassifier.train(MultilayerPerceptronClassifier.scala:93)\n\tat org.apache.spark.ml.Predictor.fit(Predictor.scala:151)\n\tat org.apache.spark.ml.Predictor.fit(Predictor.scala:115)\n\tat sun.reflect.NativeMethodAccessorImpl.invoke0(Native Method)\n\tat sun.reflect.NativeMethodAccessorImpl.invoke(NativeMethodAccessorImpl.java:62)\n\tat sun.reflect.DelegatingMethodAccessorImpl.invoke(DelegatingMethodAccessorImpl.java:43)\n\tat java.lang.reflect.Method.invoke(Method.java:498)\n\tat py4j.reflection.MethodInvoker.invoke(MethodInvoker.java:244)\n\tat py4j.reflection.ReflectionEngine.invoke(ReflectionEngine.java:357)\n\tat py4j.Gateway.invoke(Gateway.java:282)\n\tat py4j.commands.AbstractCommand.invokeMethod(AbstractCommand.java:132)\n\tat py4j.commands.CallCommand.execute(CallCommand.java:79)\n\tat py4j.GatewayConnection.run(GatewayConnection.java:238)\n\tat java.lang.Thread.run(Thread.java:748)\n",
     "output_type": "error",
     "traceback": [
      "\u001b[0;31m---------------------------------------------------------------------------\u001b[0m",
      "\u001b[0;31mPy4JJavaError\u001b[0m                             Traceback (most recent call last)",
      "\u001b[0;32m<ipython-input-51-89edee10f5b8>\u001b[0m in \u001b[0;36m<module>\u001b[0;34m\u001b[0m\n\u001b[0;32m----> 1\u001b[0;31m \u001b[0mann\u001b[0m \u001b[0;34m=\u001b[0m \u001b[0mmlpc\u001b[0m\u001b[0;34m.\u001b[0m\u001b[0mfit\u001b[0m\u001b[0;34m(\u001b[0m\u001b[0mtrain\u001b[0m\u001b[0;34m)\u001b[0m\u001b[0;34m\u001b[0m\u001b[0;34m\u001b[0m\u001b[0m\n\u001b[0m",
      "\u001b[0;32m~/.local/lib/python3.6/site-packages/pyspark/ml/base.py\u001b[0m in \u001b[0;36mfit\u001b[0;34m(self, dataset, params)\u001b[0m\n\u001b[1;32m    159\u001b[0m                 \u001b[0;32mreturn\u001b[0m \u001b[0mself\u001b[0m\u001b[0;34m.\u001b[0m\u001b[0mcopy\u001b[0m\u001b[0;34m(\u001b[0m\u001b[0mparams\u001b[0m\u001b[0;34m)\u001b[0m\u001b[0;34m.\u001b[0m\u001b[0m_fit\u001b[0m\u001b[0;34m(\u001b[0m\u001b[0mdataset\u001b[0m\u001b[0;34m)\u001b[0m\u001b[0;34m\u001b[0m\u001b[0;34m\u001b[0m\u001b[0m\n\u001b[1;32m    160\u001b[0m             \u001b[0;32melse\u001b[0m\u001b[0;34m:\u001b[0m\u001b[0;34m\u001b[0m\u001b[0;34m\u001b[0m\u001b[0m\n\u001b[0;32m--> 161\u001b[0;31m                 \u001b[0;32mreturn\u001b[0m \u001b[0mself\u001b[0m\u001b[0;34m.\u001b[0m\u001b[0m_fit\u001b[0m\u001b[0;34m(\u001b[0m\u001b[0mdataset\u001b[0m\u001b[0;34m)\u001b[0m\u001b[0;34m\u001b[0m\u001b[0;34m\u001b[0m\u001b[0m\n\u001b[0m\u001b[1;32m    162\u001b[0m         \u001b[0;32melse\u001b[0m\u001b[0;34m:\u001b[0m\u001b[0;34m\u001b[0m\u001b[0;34m\u001b[0m\u001b[0m\n\u001b[1;32m    163\u001b[0m             raise TypeError(\"Params must be either a param map or a list/tuple of param maps, \"\n",
      "\u001b[0;32m~/.local/lib/python3.6/site-packages/pyspark/ml/wrapper.py\u001b[0m in \u001b[0;36m_fit\u001b[0;34m(self, dataset)\u001b[0m\n\u001b[1;32m    333\u001b[0m \u001b[0;34m\u001b[0m\u001b[0m\n\u001b[1;32m    334\u001b[0m     \u001b[0;32mdef\u001b[0m \u001b[0m_fit\u001b[0m\u001b[0;34m(\u001b[0m\u001b[0mself\u001b[0m\u001b[0;34m,\u001b[0m \u001b[0mdataset\u001b[0m\u001b[0;34m)\u001b[0m\u001b[0;34m:\u001b[0m\u001b[0;34m\u001b[0m\u001b[0;34m\u001b[0m\u001b[0m\n\u001b[0;32m--> 335\u001b[0;31m         \u001b[0mjava_model\u001b[0m \u001b[0;34m=\u001b[0m \u001b[0mself\u001b[0m\u001b[0;34m.\u001b[0m\u001b[0m_fit_java\u001b[0m\u001b[0;34m(\u001b[0m\u001b[0mdataset\u001b[0m\u001b[0;34m)\u001b[0m\u001b[0;34m\u001b[0m\u001b[0;34m\u001b[0m\u001b[0m\n\u001b[0m\u001b[1;32m    336\u001b[0m         \u001b[0mmodel\u001b[0m \u001b[0;34m=\u001b[0m \u001b[0mself\u001b[0m\u001b[0;34m.\u001b[0m\u001b[0m_create_model\u001b[0m\u001b[0;34m(\u001b[0m\u001b[0mjava_model\u001b[0m\u001b[0;34m)\u001b[0m\u001b[0;34m\u001b[0m\u001b[0;34m\u001b[0m\u001b[0m\n\u001b[1;32m    337\u001b[0m         \u001b[0;32mreturn\u001b[0m \u001b[0mself\u001b[0m\u001b[0;34m.\u001b[0m\u001b[0m_copyValues\u001b[0m\u001b[0;34m(\u001b[0m\u001b[0mmodel\u001b[0m\u001b[0;34m)\u001b[0m\u001b[0;34m\u001b[0m\u001b[0;34m\u001b[0m\u001b[0m\n",
      "\u001b[0;32m~/.local/lib/python3.6/site-packages/pyspark/ml/wrapper.py\u001b[0m in \u001b[0;36m_fit_java\u001b[0;34m(self, dataset)\u001b[0m\n\u001b[1;32m    330\u001b[0m         \"\"\"\n\u001b[1;32m    331\u001b[0m         \u001b[0mself\u001b[0m\u001b[0;34m.\u001b[0m\u001b[0m_transfer_params_to_java\u001b[0m\u001b[0;34m(\u001b[0m\u001b[0;34m)\u001b[0m\u001b[0;34m\u001b[0m\u001b[0;34m\u001b[0m\u001b[0m\n\u001b[0;32m--> 332\u001b[0;31m         \u001b[0;32mreturn\u001b[0m \u001b[0mself\u001b[0m\u001b[0;34m.\u001b[0m\u001b[0m_java_obj\u001b[0m\u001b[0;34m.\u001b[0m\u001b[0mfit\u001b[0m\u001b[0;34m(\u001b[0m\u001b[0mdataset\u001b[0m\u001b[0;34m.\u001b[0m\u001b[0m_jdf\u001b[0m\u001b[0;34m)\u001b[0m\u001b[0;34m\u001b[0m\u001b[0;34m\u001b[0m\u001b[0m\n\u001b[0m\u001b[1;32m    333\u001b[0m \u001b[0;34m\u001b[0m\u001b[0m\n\u001b[1;32m    334\u001b[0m     \u001b[0;32mdef\u001b[0m \u001b[0m_fit\u001b[0m\u001b[0;34m(\u001b[0m\u001b[0mself\u001b[0m\u001b[0;34m,\u001b[0m \u001b[0mdataset\u001b[0m\u001b[0;34m)\u001b[0m\u001b[0;34m:\u001b[0m\u001b[0;34m\u001b[0m\u001b[0;34m\u001b[0m\u001b[0m\n",
      "\u001b[0;32m~/.local/lib/python3.6/site-packages/py4j/java_gateway.py\u001b[0m in \u001b[0;36m__call__\u001b[0;34m(self, *args)\u001b[0m\n\u001b[1;32m   1308\u001b[0m         \u001b[0manswer\u001b[0m \u001b[0;34m=\u001b[0m \u001b[0mself\u001b[0m\u001b[0;34m.\u001b[0m\u001b[0mgateway_client\u001b[0m\u001b[0;34m.\u001b[0m\u001b[0msend_command\u001b[0m\u001b[0;34m(\u001b[0m\u001b[0mcommand\u001b[0m\u001b[0;34m)\u001b[0m\u001b[0;34m\u001b[0m\u001b[0;34m\u001b[0m\u001b[0m\n\u001b[1;32m   1309\u001b[0m         return_value = get_return_value(\n\u001b[0;32m-> 1310\u001b[0;31m             answer, self.gateway_client, self.target_id, self.name)\n\u001b[0m\u001b[1;32m   1311\u001b[0m \u001b[0;34m\u001b[0m\u001b[0m\n\u001b[1;32m   1312\u001b[0m         \u001b[0;32mfor\u001b[0m \u001b[0mtemp_arg\u001b[0m \u001b[0;32min\u001b[0m \u001b[0mtemp_args\u001b[0m\u001b[0;34m:\u001b[0m\u001b[0;34m\u001b[0m\u001b[0;34m\u001b[0m\u001b[0m\n",
      "\u001b[0;32m~/.local/lib/python3.6/site-packages/pyspark/sql/utils.py\u001b[0m in \u001b[0;36mdeco\u001b[0;34m(*a, **kw)\u001b[0m\n\u001b[1;32m    109\u001b[0m     \u001b[0;32mdef\u001b[0m \u001b[0mdeco\u001b[0m\u001b[0;34m(\u001b[0m\u001b[0;34m*\u001b[0m\u001b[0ma\u001b[0m\u001b[0;34m,\u001b[0m \u001b[0;34m**\u001b[0m\u001b[0mkw\u001b[0m\u001b[0;34m)\u001b[0m\u001b[0;34m:\u001b[0m\u001b[0;34m\u001b[0m\u001b[0;34m\u001b[0m\u001b[0m\n\u001b[1;32m    110\u001b[0m         \u001b[0;32mtry\u001b[0m\u001b[0;34m:\u001b[0m\u001b[0;34m\u001b[0m\u001b[0;34m\u001b[0m\u001b[0m\n\u001b[0;32m--> 111\u001b[0;31m             \u001b[0;32mreturn\u001b[0m \u001b[0mf\u001b[0m\u001b[0;34m(\u001b[0m\u001b[0;34m*\u001b[0m\u001b[0ma\u001b[0m\u001b[0;34m,\u001b[0m \u001b[0;34m**\u001b[0m\u001b[0mkw\u001b[0m\u001b[0;34m)\u001b[0m\u001b[0;34m\u001b[0m\u001b[0;34m\u001b[0m\u001b[0m\n\u001b[0m\u001b[1;32m    112\u001b[0m         \u001b[0;32mexcept\u001b[0m \u001b[0mpy4j\u001b[0m\u001b[0;34m.\u001b[0m\u001b[0mprotocol\u001b[0m\u001b[0;34m.\u001b[0m\u001b[0mPy4JJavaError\u001b[0m \u001b[0;32mas\u001b[0m \u001b[0me\u001b[0m\u001b[0;34m:\u001b[0m\u001b[0;34m\u001b[0m\u001b[0;34m\u001b[0m\u001b[0m\n\u001b[1;32m    113\u001b[0m             \u001b[0mconverted\u001b[0m \u001b[0;34m=\u001b[0m \u001b[0mconvert_exception\u001b[0m\u001b[0;34m(\u001b[0m\u001b[0me\u001b[0m\u001b[0;34m.\u001b[0m\u001b[0mjava_exception\u001b[0m\u001b[0;34m)\u001b[0m\u001b[0;34m\u001b[0m\u001b[0;34m\u001b[0m\u001b[0m\n",
      "\u001b[0;32m~/.local/lib/python3.6/site-packages/py4j/protocol.py\u001b[0m in \u001b[0;36mget_return_value\u001b[0;34m(answer, gateway_client, target_id, name)\u001b[0m\n\u001b[1;32m    326\u001b[0m                 raise Py4JJavaError(\n\u001b[1;32m    327\u001b[0m                     \u001b[0;34m\"An error occurred while calling {0}{1}{2}.\\n\"\u001b[0m\u001b[0;34m.\u001b[0m\u001b[0;34m\u001b[0m\u001b[0;34m\u001b[0m\u001b[0m\n\u001b[0;32m--> 328\u001b[0;31m                     format(target_id, \".\", name), value)\n\u001b[0m\u001b[1;32m    329\u001b[0m             \u001b[0;32melse\u001b[0m\u001b[0;34m:\u001b[0m\u001b[0;34m\u001b[0m\u001b[0;34m\u001b[0m\u001b[0m\n\u001b[1;32m    330\u001b[0m                 raise Py4JError(\n",
      "\u001b[0;31mPy4JJavaError\u001b[0m: An error occurred while calling o1950.fit.\n: java.util.NoSuchElementException: Failed to find a default value for layers\n\tat org.apache.spark.ml.param.Params.$anonfun$getOrDefault$2(params.scala:756)\n\tat scala.Option.getOrElse(Option.scala:189)\n\tat org.apache.spark.ml.param.Params.getOrDefault(params.scala:756)\n\tat org.apache.spark.ml.param.Params.getOrDefault$(params.scala:753)\n\tat org.apache.spark.ml.PipelineStage.getOrDefault(Pipeline.scala:41)\n\tat org.apache.spark.ml.param.Params.$(params.scala:762)\n\tat org.apache.spark.ml.param.Params.$$(params.scala:762)\n\tat org.apache.spark.ml.PipelineStage.$(Pipeline.scala:41)\n\tat org.apache.spark.ml.classification.MultilayerPerceptronClassifier.$anonfun$train$1(MultilayerPerceptronClassifier.scala:190)\n\tat org.apache.spark.ml.util.Instrumentation$.$anonfun$instrumented$1(Instrumentation.scala:191)\n\tat scala.util.Try$.apply(Try.scala:213)\n\tat org.apache.spark.ml.util.Instrumentation$.instrumented(Instrumentation.scala:191)\n\tat org.apache.spark.ml.classification.MultilayerPerceptronClassifier.train(MultilayerPerceptronClassifier.scala:184)\n\tat org.apache.spark.ml.classification.MultilayerPerceptronClassifier.train(MultilayerPerceptronClassifier.scala:93)\n\tat org.apache.spark.ml.Predictor.fit(Predictor.scala:151)\n\tat org.apache.spark.ml.Predictor.fit(Predictor.scala:115)\n\tat sun.reflect.NativeMethodAccessorImpl.invoke0(Native Method)\n\tat sun.reflect.NativeMethodAccessorImpl.invoke(NativeMethodAccessorImpl.java:62)\n\tat sun.reflect.DelegatingMethodAccessorImpl.invoke(DelegatingMethodAccessorImpl.java:43)\n\tat java.lang.reflect.Method.invoke(Method.java:498)\n\tat py4j.reflection.MethodInvoker.invoke(MethodInvoker.java:244)\n\tat py4j.reflection.ReflectionEngine.invoke(ReflectionEngine.java:357)\n\tat py4j.Gateway.invoke(Gateway.java:282)\n\tat py4j.commands.AbstractCommand.invokeMethod(AbstractCommand.java:132)\n\tat py4j.commands.CallCommand.execute(CallCommand.java:79)\n\tat py4j.GatewayConnection.run(GatewayConnection.java:238)\n\tat java.lang.Thread.run(Thread.java:748)\n"
     ]
    }
   ],
   "source": [
    "ann = mlpc.fit(train)\n"
   ]
  },
  {
   "cell_type": "code",
   "execution_count": null,
   "metadata": {},
   "outputs": [],
   "source": [
    "#STEP-12 accuracy of the GBTClassifier \n",
    "import numpy as np\n",
    "from sklearn.metrics import accuracy_score, precision_score, recall_score, roc_auc_score, f1_score\n",
    "\n",
    "# Make predicitons\n",
    "predictionAndTarget = ann.transform(test).select(\"failure\", \"prediction\")\n",
    "\n",
    "predictionAndTargetNumpy = np.array((predictionAndTarget.collect()))\n",
    "\n",
    "acc = accuracy_score(predictionAndTargetNumpy[:,0], predictionAndTargetNumpy[:,1])\n",
    "f1 = f1_score(predictionAndTargetNumpy[:,0], predictionAndTargetNumpy[:,1])\n",
    "precision = precision_score(predictionAndTargetNumpy[:,0], predictionAndTargetNumpy[:,1])\n",
    "recall = recall_score(predictionAndTargetNumpy[:,0], predictionAndTargetNumpy[:,1])\n",
    "auc = roc_auc_score(predictionAndTargetNumpy[:,0], predictionAndTargetNumpy[:,1])\n",
    "print(acc,precision,recall,f1,auc) # GBTClassifier"
   ]
  },
  {
   "cell_type": "code",
   "execution_count": null,
   "metadata": {},
   "outputs": [],
   "source": [
    "#STEP-13 predictions with validation data   \n",
    "#STEP-13 predictions with validation data  # failure # label\n",
    "predictions = ann.transform(validation_dataset1)\n",
    "final1=predictions.select('model', 'failure', 'rawPrediction', 'prediction', 'probability')\n",
    "#row_number = final1.count()\n",
    "#row_number\n",
    "from pyspark.sql.types import LongType\n",
    "from pyspark.sql import Row\n",
    "def zipindexdf(df):\n",
    "    schema_new = df.schema.add(\"index\", LongType(), False)\n",
    "    return df.rdd.zipWithIndex().map(lambda l: list(l[0]) + [l[1]]).toDF(schema_new)\n",
    "\n",
    "validation_serial_number_index = zipindexdf(validation_serial_number)\n",
    "#validation_serial_number_index.show()\n",
    "final1_index = zipindexdf(final1)\n",
    "#final_index.show()\n",
    "final1_model_results = validation_serial_number_index.join(final1_index, \"index\", \"inner\")\n",
    "final1_model_results = final1_model_results.withColumnRenamed(\"rawPrediction\", \"Confidence_Level\")\n",
    "final1_model_results.show()\n",
    "\n",
    "# STEP-14 Download the predictions results\n",
    "pandasDF = final1_model_results.toPandas()\n",
    "#pandasDF.label.replace((0, 1), ('Active', 'fail'), inplace=True)\n",
    "pandasDF.failure.replace((0, 1), ('Active', 'fail'), inplace=True)\n",
    "pandasDF.prediction.replace((0, 1), ('Active', 'Predicted_to_be_fail'), inplace=True)\n",
    "\n",
    "pandasDF['Confidence_Level'] = pandasDF['Confidence_Level'].astype('str')\n",
    "pandasDF['probability'] = pandasDF['probability'].astype('str')\n",
    "Confidence_Level=pandasDF['Confidence_Level'].str.split(',', expand=True)\n",
    "pandasDF = pandasDF.join(Confidence_Level).drop(1, axis=1)\n",
    "pandasDF = pandasDF.drop(['Confidence_Level'], 1)\n",
    "pandasDF.rename(columns = {0:'Confidence_Level'}, inplace = True)\n",
    "probability1=pandasDF['probability'].str.split(',', expand=True)\n",
    "probability1.rename(columns = {0:'Active_Probability'}, inplace = True)\n",
    "probability1.rename(columns = {1:'Failure_Probability'}, inplace = True)\n",
    "pandasDF = pandasDF.join(probability1)\n",
    "pandasDF = pandasDF.drop(['probability'], 1)\n",
    "pandasDF = pandasDF.drop(['index'], 1)\n",
    "pandasDF.rename(columns = {'serial_number':'Serial_Number'}, inplace = True)\n",
    "pandasDF.rename(columns = {'model':'Model'}, inplace = True)\n",
    "pandasDF.rename(columns = {'label':'Actaul'}, inplace = True)\n",
    "pandasDF.rename(columns = {'prediction':'Prediction'}, inplace = True)\n",
    "pandasDF=pandasDF.replace('\\]','',regex=True).astype(str)\n",
    "pandasDF=pandasDF.replace('\\[','',regex=True).astype(str)\n",
    "\n",
    "#pandasDF=pandasDF.groupby(['Serial_Number']).min()\n",
    "\n",
    "pandasDF.sort_values(by=['Prediction'], inplace=True, ascending=False)\n",
    "pandasDF.sort_values(by=['Active_Probability'], inplace=True)\n",
    "# download csv file \n",
    "pandasDF.to_csv(r'E:\\home\\smicro\\ML-Ganesh\\modelPrediction\\Prediction_Results.csv')\n",
    "# download excel file \n",
    "#pandasDF = final1_model_results.toPandas()\n",
    "writer = pd.ExcelWriter(\"Prediction_Results_ML.xlsx\")\n",
    "pandasDF.to_excel(excel_writer=writer, sheet_name='Sheet1', na_rep=\"\")\n",
    "writer.save()"
   ]
  }
 ],
 "metadata": {
  "kernelspec": {
   "display_name": "Python 3",
   "language": "python",
   "name": "python3"
  },
  "language_info": {
   "codemirror_mode": {
    "name": "ipython",
    "version": 3
   },
   "file_extension": ".py",
   "mimetype": "text/x-python",
   "name": "python",
   "nbconvert_exporter": "python",
   "pygments_lexer": "ipython3",
   "version": "3.6.8"
  }
 },
 "nbformat": 4,
 "nbformat_minor": 4
}
