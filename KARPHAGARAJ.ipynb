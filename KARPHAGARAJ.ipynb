{
 "cells": [
  {
   "cell_type": "code",
   "execution_count": 1,
   "metadata": {},
   "outputs": [
    {
     "name": "stderr",
     "output_type": "stream",
     "text": [
      "/home/smicro/.local/lib/python3.6/site-packages/pyspark/context.py:238: FutureWarning: Python 3.6 support is deprecated in Spark 3.2.\n",
      "  FutureWarning\n",
      "/home/smicro/.local/lib/python3.6/site-packages/pyspark/sql/context.py:79: FutureWarning: Deprecated in 3.0.0. Use SparkSession.builder.getOrCreate() instead.\n",
      "  FutureWarning\n"
     ]
    }
   ],
   "source": [
    "#STEP-1 Import libraries \n",
    "import numpy as np\n",
    "import numpy as np\n",
    "import pandas as pd \n",
    "import numpy as np\n",
    "from sklearn.preprocessing import QuantileTransformer\n",
    "from sklearn.metrics import roc_auc_score\n",
    "from sklearn.metrics import roc_curve\n",
    "from sklearn.datasets import load_breast_cancer\n",
    "from numpy import int64\n",
    "from sklearn import svm\n",
    "from sklearn.svm import SVC \n",
    "import matplotlib.pyplot as plt\n",
    "from matplotlib import rcParams\n",
    "from sklearn.preprocessing import StandardScaler\n",
    "from sklearn.model_selection import train_test_split\n",
    "import seaborn as sns\n",
    "import matplotlib.pyplot as plt\n",
    "from xgboost import XGBClassifier\n",
    "import xgboost\n",
    "from sklearn.naive_bayes import GaussianNB\n",
    "from sklearn.neighbors import KNeighborsClassifier\n",
    "from sklearn.model_selection import train_test_split\n",
    "from sklearn.datasets import load_iris\n",
    "from sklearn.metrics import classification_report, accuracy_score  \n",
    "from sklearn.metrics import precision_score, recall_score \n",
    "from sklearn.metrics import f1_score, matthews_corrcoef \n",
    "from sklearn.metrics import confusion_matrix \n",
    "from pyhive import hive\n",
    "#from impala.dbapi import connect\n",
    "from hdfs import InsecureClient\n",
    "from pyhive import hive\n",
    "import pandas as pd\n",
    "from scipy import stats\n",
    "from sklearn.utils import resample\n",
    "import numpy as np\n",
    "import pandas as pd\n",
    "from mpl_toolkits.mplot3d import Axes3D\n",
    "from sklearn.preprocessing import StandardScaler\n",
    "import matplotlib.pyplot as plt # plotting\n",
    "import numpy as np # linear algebra\n",
    "import os # accessing directory structure\n",
    "import pandas as pd # data processing\n",
    "from pandas.plotting import scatter_matrix\n",
    "import psycopg2\n",
    "import pandas as pd\n",
    "import pandas.io.sql as sqlio\n",
    "from pyspark.ml.feature import MinMaxScaler\n",
    "from pyspark.ml.feature import VectorAssembler\n",
    "from pyspark.ml import Pipeline\n",
    "from pyspark.sql.functions import udf\n",
    "from pyspark.sql.types import DoubleType\n",
    "from pyspark.sql import SparkSession\n",
    "from pyspark.sql import SQLContext\n",
    "import pandas as pd\n",
    "from pyspark.sql import SparkSession\n",
    "from pyspark import SparkContext\n",
    "import pyspark.sql \n",
    "from pyspark.ml.classification import MultilayerPerceptronClassifier\n",
    "sc =SparkContext.getOrCreate()\n",
    "sqlContext = SQLContext(sc)\n"
   ]
  },
  {
   "cell_type": "code",
   "execution_count": 2,
   "metadata": {
    "scrolled": true
   },
   "outputs": [
    {
     "name": "stderr",
     "output_type": "stream",
     "text": [
      "/home/smicro/.local/lib/python3.6/site-packages/pyspark/sql/context.py:604: FutureWarning: HiveContext is deprecated in Spark 2.0.0. Please use SparkSession.builder.enableHiveSupport().getOrCreate() instead.\n",
      "  FutureWarning\n"
     ]
    }
   ],
   "source": [
    "#STEP-2 Read data from HIVE\n",
    "from pyspark.sql import HiveContext\n",
    "from pyspark import SparkConf\n",
    "spark = SparkSession(sc)\n",
    "hive_context = HiveContext(sc)\n",
    "sqlContext = SQLContext(sc)\n",
    "#bank1 = sqlContext.table(\"sda_hdd_db.sda_hdd_all\")\n",
    "df = sqlContext.sql(\"SELECT * FROM sda_hdd_db.ml_smart_data_view\")"
   ]
  },
  {
   "cell_type": "code",
   "execution_count": 3,
   "metadata": {},
   "outputs": [],
   "source": [
    "#STEP-3 fill missing with zero \n",
    "df=df.na.fill(value=0)"
   ]
  },
  {
   "cell_type": "code",
   "execution_count": 4,
   "metadata": {},
   "outputs": [
    {
     "name": "stdout",
     "output_type": "stream",
     "text": [
      "root\n",
      " |-- process_date: timestamp (nullable = true)\n",
      " |-- serial_number: string (nullable = true)\n",
      " |-- model: string (nullable = true)\n",
      " |-- capacity_bytes: long (nullable = true)\n",
      " |-- failure: long (nullable = true)\n",
      " |-- smart_1_normalized: long (nullable = true)\n",
      " |-- smart_1_raw: long (nullable = true)\n",
      " |-- smart_2_normalized: long (nullable = true)\n",
      " |-- smart_2_raw: long (nullable = true)\n",
      " |-- smart_3_normalized: long (nullable = true)\n",
      " |-- smart_3_raw: long (nullable = true)\n",
      " |-- smart_4_normalized: long (nullable = true)\n",
      " |-- smart_4_raw: long (nullable = true)\n",
      " |-- smart_5_normalized: long (nullable = true)\n",
      " |-- smart_5_raw: long (nullable = true)\n",
      " |-- smart_7_normalized: long (nullable = true)\n",
      " |-- smart_7_raw: long (nullable = true)\n",
      " |-- smart_8_normalized: long (nullable = true)\n",
      " |-- smart_8_raw: long (nullable = true)\n",
      " |-- smart_9_normalized: long (nullable = true)\n",
      " |-- smart_9_raw: long (nullable = true)\n",
      " |-- smart_10_normalized: long (nullable = true)\n",
      " |-- smart_10_raw: long (nullable = true)\n",
      " |-- smart_11_normalized: long (nullable = true)\n",
      " |-- smart_11_raw: long (nullable = true)\n",
      " |-- smart_12_normalized: long (nullable = true)\n",
      " |-- smart_12_raw: long (nullable = true)\n",
      " |-- smart_13_normalized: long (nullable = true)\n",
      " |-- smart_13_raw: long (nullable = true)\n",
      " |-- smart_15_normalized: long (nullable = true)\n",
      " |-- smart_15_raw: long (nullable = true)\n",
      " |-- smart_16_normalized: long (nullable = true)\n",
      " |-- smart_16_raw: long (nullable = true)\n",
      " |-- smart_17_normalized: long (nullable = true)\n",
      " |-- smart_17_raw: long (nullable = true)\n",
      " |-- smart_18_normalized: long (nullable = true)\n",
      " |-- smart_18_raw: long (nullable = true)\n",
      " |-- smart_22_normalized: long (nullable = true)\n",
      " |-- smart_22_raw: long (nullable = true)\n",
      " |-- smart_23_normalized: long (nullable = true)\n",
      " |-- smart_23_raw: long (nullable = true)\n",
      " |-- smart_24_normalized: long (nullable = true)\n",
      " |-- smart_24_raw: long (nullable = true)\n",
      " |-- smart_168_normalized: long (nullable = true)\n",
      " |-- smart_168_raw: long (nullable = true)\n",
      " |-- smart_170_normalized: long (nullable = true)\n",
      " |-- smart_170_raw: long (nullable = true)\n",
      " |-- smart_173_normalized: long (nullable = true)\n",
      " |-- smart_173_raw: long (nullable = true)\n",
      " |-- smart_174_normalized: long (nullable = true)\n",
      " |-- smart_174_raw: long (nullable = true)\n",
      " |-- smart_175_normalized: long (nullable = true)\n",
      " |-- smart_175_raw: long (nullable = true)\n",
      " |-- smart_177_normalized: long (nullable = true)\n",
      " |-- smart_177_raw: long (nullable = true)\n",
      " |-- smart_179_normalized: long (nullable = true)\n",
      " |-- smart_179_raw: long (nullable = true)\n",
      " |-- smart_180_normalized: long (nullable = true)\n",
      " |-- smart_180_raw: long (nullable = true)\n",
      " |-- smart_181_normalized: long (nullable = true)\n",
      " |-- smart_181_raw: long (nullable = true)\n",
      " |-- smart_182_normalized: long (nullable = true)\n",
      " |-- smart_182_raw: long (nullable = true)\n",
      " |-- smart_183_normalized: long (nullable = true)\n",
      " |-- smart_183_raw: long (nullable = true)\n",
      " |-- smart_184_normalized: long (nullable = true)\n",
      " |-- smart_184_raw: long (nullable = true)\n",
      " |-- smart_187_normalized: long (nullable = true)\n",
      " |-- smart_187_raw: long (nullable = true)\n",
      " |-- smart_188_normalized: long (nullable = true)\n",
      " |-- smart_188_raw: long (nullable = true)\n",
      " |-- smart_189_normalized: long (nullable = true)\n",
      " |-- smart_189_raw: long (nullable = true)\n",
      " |-- smart_190_normalized: long (nullable = true)\n",
      " |-- smart_190_raw: long (nullable = true)\n",
      " |-- smart_191_normalized: long (nullable = true)\n",
      " |-- smart_191_raw: long (nullable = true)\n",
      " |-- smart_192_normalized: long (nullable = true)\n",
      " |-- smart_192_raw: long (nullable = true)\n",
      " |-- smart_193_normalized: long (nullable = true)\n",
      " |-- smart_193_raw: long (nullable = true)\n",
      " |-- smart_194_normalized: long (nullable = true)\n",
      " |-- smart_194_raw: long (nullable = true)\n",
      " |-- smart_195_normalized: long (nullable = true)\n",
      " |-- smart_195_raw: long (nullable = true)\n",
      " |-- smart_196_normalized: long (nullable = true)\n",
      " |-- smart_196_raw: long (nullable = true)\n",
      " |-- smart_197_normalized: long (nullable = true)\n",
      " |-- smart_197_raw: long (nullable = true)\n",
      " |-- smart_198_normalized: long (nullable = true)\n",
      " |-- smart_198_raw: long (nullable = true)\n",
      " |-- smart_199_normalized: long (nullable = true)\n",
      " |-- smart_199_raw: long (nullable = true)\n",
      " |-- smart_200_normalized: long (nullable = true)\n",
      " |-- smart_200_raw: long (nullable = true)\n",
      " |-- smart_201_normalized: long (nullable = true)\n",
      " |-- smart_201_raw: long (nullable = true)\n",
      " |-- smart_202_normalized: long (nullable = true)\n",
      " |-- smart_202_raw: long (nullable = true)\n",
      " |-- smart_206_normalized: long (nullable = true)\n",
      " |-- smart_206_raw: long (nullable = true)\n",
      " |-- smart_210_normalized: long (nullable = true)\n",
      " |-- smart_210_raw: long (nullable = true)\n",
      " |-- smart_218_normalized: long (nullable = true)\n",
      " |-- smart_218_raw: long (nullable = true)\n",
      " |-- smart_220_normalized: long (nullable = true)\n",
      " |-- smart_220_raw: long (nullable = true)\n",
      " |-- smart_222_normalized: long (nullable = true)\n",
      " |-- smart_222_raw: long (nullable = true)\n",
      " |-- smart_223_normalized: long (nullable = true)\n",
      " |-- smart_223_raw: long (nullable = true)\n",
      " |-- smart_224_normalized: long (nullable = true)\n",
      " |-- smart_224_raw: long (nullable = true)\n",
      " |-- smart_225_normalized: long (nullable = true)\n",
      " |-- smart_225_raw: long (nullable = true)\n",
      " |-- smart_226_normalized: long (nullable = true)\n",
      " |-- smart_226_raw: long (nullable = true)\n",
      " |-- smart_231_normalized: long (nullable = true)\n",
      " |-- smart_231_raw: long (nullable = true)\n",
      " |-- smart_232_normalized: long (nullable = true)\n",
      " |-- smart_232_raw: long (nullable = true)\n",
      " |-- smart_233_normalized: long (nullable = true)\n",
      " |-- smart_233_raw: long (nullable = true)\n",
      " |-- smart_234_normalized: long (nullable = true)\n",
      " |-- smart_234_raw: long (nullable = true)\n",
      " |-- smart_235_normalized: long (nullable = true)\n",
      " |-- smart_235_raw: long (nullable = true)\n",
      " |-- smart_240_normalized: long (nullable = true)\n",
      " |-- smart_240_raw: long (nullable = true)\n",
      " |-- smart_241_normalized: long (nullable = true)\n",
      " |-- smart_241_raw: long (nullable = true)\n",
      " |-- smart_242_normalized: long (nullable = true)\n",
      " |-- smart_242_raw: long (nullable = true)\n",
      " |-- smart_245_normalized: long (nullable = true)\n",
      " |-- smart_245_raw: long (nullable = true)\n",
      " |-- smart_247_normalized: long (nullable = true)\n",
      " |-- smart_247_raw: long (nullable = true)\n",
      " |-- smart_248_normalized: long (nullable = true)\n",
      " |-- smart_248_raw: long (nullable = true)\n",
      " |-- smart_250_normalized: long (nullable = true)\n",
      " |-- smart_250_raw: long (nullable = true)\n",
      " |-- smart_251_normalized: long (nullable = true)\n",
      " |-- smart_251_raw: long (nullable = true)\n",
      " |-- smart_252_normalized: long (nullable = true)\n",
      " |-- smart_252_raw: long (nullable = true)\n",
      " |-- smart_254_normalized: long (nullable = true)\n",
      " |-- smart_254_raw: long (nullable = true)\n",
      " |-- smart_255_normalized: long (nullable = true)\n",
      " |-- smart_255_raw: long (nullable = true)\n",
      " |-- smart_160_normalized: long (nullable = true)\n",
      " |-- smart_160_raw: long (nullable = true)\n",
      " |-- smart_161_normalized: long (nullable = true)\n",
      " |-- smart_161_raw: long (nullable = true)\n",
      " |-- smart_163_normalized: long (nullable = true)\n",
      " |-- smart_163_raw: long (nullable = true)\n",
      " |-- smart_164_normalized: long (nullable = true)\n",
      " |-- smart_164_raw: long (nullable = true)\n",
      " |-- smart_165_normalized: long (nullable = true)\n",
      " |-- smart_165_raw: long (nullable = true)\n",
      " |-- smart_166_normalized: long (nullable = true)\n",
      " |-- smart_166_raw: long (nullable = true)\n",
      " |-- smart_167_normalized: long (nullable = true)\n",
      " |-- smart_167_raw: long (nullable = true)\n",
      " |-- smart_169_normalized: long (nullable = true)\n",
      " |-- smart_169_raw: long (nullable = true)\n",
      " |-- smart_176_normalized: long (nullable = true)\n",
      " |-- smart_176_raw: long (nullable = true)\n",
      " |-- smart_178_normalized: long (nullable = true)\n",
      " |-- smart_178_raw: long (nullable = true)\n",
      "\n"
     ]
    }
   ],
   "source": [
    "df.printSchema()"
   ]
  },
  {
   "cell_type": "code",
   "execution_count": 5,
   "metadata": {},
   "outputs": [
    {
     "data": {
      "text/plain": [
       "860997"
      ]
     },
     "execution_count": 5,
     "metadata": {},
     "output_type": "execute_result"
    }
   ],
   "source": [
    "df.count()"
   ]
  },
  {
   "cell_type": "code",
   "execution_count": 6,
   "metadata": {},
   "outputs": [],
   "source": [
    "#1. data1= create diffrent dataset for 1 failure from df (TABLE ml_smart_data_view)\n",
    "\n",
    "df1 = df.where(df.failure == 1)"
   ]
  },
  {
   "cell_type": "code",
   "execution_count": 9,
   "metadata": {},
   "outputs": [
    {
     "data": {
      "text/plain": [
       "66539"
      ]
     },
     "execution_count": 9,
     "metadata": {},
     "output_type": "execute_result"
    }
   ],
   "source": [
    "df1.count()"
   ]
  },
  {
   "cell_type": "code",
   "execution_count": 17,
   "metadata": {},
   "outputs": [
    {
     "name": "stdout",
     "output_type": "stream",
     "text": [
      "+------------+\n",
      "|process_date|\n",
      "+------------+\n",
      "|  2021-12-11|\n",
      "+------------+\n",
      "\n"
     ]
    }
   ],
   "source": [
    "sqlContext.sql(\"select cast(process_date as date) FROM sda_hdd_db.ml_smart_data_view limit 1\").show()"
   ]
  },
  {
   "cell_type": "code",
   "execution_count": 32,
   "metadata": {},
   "outputs": [],
   "source": [
    "#3. data2= create diffrent dataset for 0 failure from df (TABLE ml_smart_data_view) where time line is 0 for each hourse 1 entry where failure = 0\n",
    "\n",
    "df2 = sqlContext.sql(\"select process_date,serial_number,model,capacity_bytes,failure,smart_1_normalized,smart_1_raw,smart_2_normalized,smart_2_raw,smart_3_normalized,smart_3_raw,smart_4_normalized,smart_4_raw,smart_5_normalized,smart_5_raw,smart_7_normalized,smart_7_raw,smart_8_normalized,smart_8_raw,smart_9_normalized,smart_9_raw,smart_10_normalized,smart_10_raw,smart_11_normalized,smart_11_raw,smart_12_normalized,smart_12_raw,smart_13_normalized,smart_13_raw,smart_15_normalized,smart_15_raw,smart_16_normalized,smart_16_raw,smart_17_normalized,smart_17_raw,smart_18_normalized,smart_18_raw,smart_22_normalized,smart_22_raw,smart_23_normalized,smart_23_raw,smart_24_normalized,smart_24_raw,smart_160_normalized,smart_160_raw,smart_161_normalized,smart_161_raw,smart_163_normalized,smart_163_raw,smart_164_normalized,smart_164_raw,smart_165_normalized,smart_165_raw,smart_166_normalized,smart_166_raw,smart_167_normalized,smart_167_raw,smart_168_normalized,smart_168_raw,smart_169_normalized,smart_169_raw,smart_170_normalized,smart_170_raw,smart_173_normalized,smart_173_raw,smart_174_normalized,smart_174_raw,smart_175_normalized,smart_175_raw,smart_176_normalized,smart_176_raw,smart_177_normalized,smart_177_raw,smart_178_normalized,smart_178_raw,smart_179_normalized,smart_179_raw,smart_180_normalized,smart_180_raw,smart_181_normalized,smart_181_raw,smart_182_normalized,smart_182_raw,smart_183_normalized,smart_183_raw,smart_184_normalized,smart_184_raw,smart_187_normalized,smart_187_raw,smart_188_normalized,smart_188_raw,smart_189_normalized,smart_189_raw,smart_190_normalized,smart_190_raw,smart_191_normalized,smart_191_raw,smart_192_normalized,smart_192_raw,smart_193_normalized,smart_193_raw,smart_194_normalized,smart_194_raw,smart_195_normalized,smart_195_raw,smart_196_normalized,smart_196_raw,smart_197_normalized,smart_197_raw,smart_198_normalized,smart_198_raw,smart_199_normalized,smart_199_raw,smart_200_normalized,smart_200_raw,smart_201_normalized,smart_201_raw,smart_202_normalized,smart_202_raw,smart_206_normalized,smart_206_raw,smart_210_normalized,smart_210_raw,smart_218_normalized,smart_218_raw,smart_220_normalized,smart_220_raw,smart_222_normalized,smart_222_raw,smart_223_normalized,smart_223_raw,smart_224_normalized,smart_224_raw,smart_225_normalized,smart_225_raw,smart_226_normalized,smart_226_raw,smart_231_normalized,smart_231_raw,smart_232_normalized,smart_232_raw,smart_233_normalized,smart_233_raw,smart_234_normalized,smart_234_raw,smart_235_normalized,smart_235_raw,smart_240_normalized,smart_240_raw,smart_241_normalized,smart_241_raw,smart_242_normalized,smart_242_raw,smart_245_normalized,smart_245_raw,smart_247_normalized,smart_247_raw,smart_248_normalized,smart_248_raw,smart_250_normalized,smart_250_raw,smart_251_normalized,smart_251_raw,smart_252_normalized,smart_252_raw,smart_254_normalized,smart_254_raw,smart_255_normalized,smart_255_raw from (select *, row_number() OVER (PARTITION BY cast(process_date as date) ORDER BY model DESC) as rn  FROM sda_hdd_db.ml_smart_data_view) tmp where rn = 1 and failure=0\")"
   ]
  },
  {
   "cell_type": "code",
   "execution_count": 33,
   "metadata": {},
   "outputs": [
    {
     "data": {
      "text/plain": [
       "19"
      ]
     },
     "execution_count": 33,
     "metadata": {},
     "output_type": "execute_result"
    }
   ],
   "source": [
    "df2.count()"
   ]
  },
  {
   "cell_type": "code",
   "execution_count": 26,
   "metadata": {},
   "outputs": [
    {
     "name": "stdout",
     "output_type": "stream",
     "text": [
      "+-------------------+---------------+--------------------+--------------+-------+------------------+-----------+------------------+-----------+------------------+-----------+------------------+-----------+------------------+-----------+------------------+-----------+------------------+-----------+------------------+-----------+-------------------+------------+-------------------+------------+-------------------+------------+-------------------+------------+-------------------+------------+-------------------+------------+-------------------+------------+-------------------+------------+-------------------+------------+-------------------+------------+-------------------+------------+--------------------+-------------+--------------------+-------------+--------------------+-------------+--------------------+-------------+--------------------+-------------+--------------------+-------------+--------------------+-------------+--------------------+-------------+--------------------+-------------+--------------------+-------------+--------------------+-------------+--------------------+-------------+--------------------+-------------+--------------------+-------------+--------------------+-------------+--------------------+-------------+--------------------+-------------+--------------------+-------------+--------------------+-------------+--------------------+-------------+--------------------+-------------+--------------------+-------------+--------------------+-------------+--------------------+-------------+--------------------+-------------+--------------------+-------------+--------------------+-------------+--------------------+-------------+--------------------+-------------+--------------------+-------------+--------------------+-------------+--------------------+-------------+--------------------+-------------+--------------------+-------------+--------------------+-------------+--------------------+-------------+--------------------+-------------+--------------------+-------------+--------------------+-------------+--------------------+-------------+--------------------+-------------+--------------------+-------------+--------------------+-------------+--------------------+-------------+--------------------+-------------+--------------------+-------------+--------------------+-------------+--------------------+-------------+--------------------+-------------+--------------------+-------------+--------------------+-------------+--------------------+-------------+--------------------+---------------+--------------------+-------------+--------------------+-------------+--------------------+-------------+--------------------+-------------+--------------------+-------------+--------------------+-------------+--------------------+-------------+--------------------+-------------+--------------------+-------------+--------------------+-------------+---+\n",
      "|       process_date|  serial_number|               model|capacity_bytes|failure|smart_1_normalized|smart_1_raw|smart_2_normalized|smart_2_raw|smart_3_normalized|smart_3_raw|smart_4_normalized|smart_4_raw|smart_5_normalized|smart_5_raw|smart_7_normalized|smart_7_raw|smart_8_normalized|smart_8_raw|smart_9_normalized|smart_9_raw|smart_10_normalized|smart_10_raw|smart_11_normalized|smart_11_raw|smart_12_normalized|smart_12_raw|smart_13_normalized|smart_13_raw|smart_15_normalized|smart_15_raw|smart_16_normalized|smart_16_raw|smart_17_normalized|smart_17_raw|smart_18_normalized|smart_18_raw|smart_22_normalized|smart_22_raw|smart_23_normalized|smart_23_raw|smart_24_normalized|smart_24_raw|smart_168_normalized|smart_168_raw|smart_170_normalized|smart_170_raw|smart_173_normalized|smart_173_raw|smart_174_normalized|smart_174_raw|smart_175_normalized|smart_175_raw|smart_177_normalized|smart_177_raw|smart_179_normalized|smart_179_raw|smart_180_normalized|smart_180_raw|smart_181_normalized|smart_181_raw|smart_182_normalized|smart_182_raw|smart_183_normalized|smart_183_raw|smart_184_normalized|smart_184_raw|smart_187_normalized|smart_187_raw|smart_188_normalized|smart_188_raw|smart_189_normalized|smart_189_raw|smart_190_normalized|smart_190_raw|smart_191_normalized|smart_191_raw|smart_192_normalized|smart_192_raw|smart_193_normalized|smart_193_raw|smart_194_normalized|smart_194_raw|smart_195_normalized|smart_195_raw|smart_196_normalized|smart_196_raw|smart_197_normalized|smart_197_raw|smart_198_normalized|smart_198_raw|smart_199_normalized|smart_199_raw|smart_200_normalized|smart_200_raw|smart_201_normalized|smart_201_raw|smart_202_normalized|smart_202_raw|smart_206_normalized|smart_206_raw|smart_210_normalized|smart_210_raw|smart_218_normalized|smart_218_raw|smart_220_normalized|smart_220_raw|smart_222_normalized|smart_222_raw|smart_223_normalized|smart_223_raw|smart_224_normalized|smart_224_raw|smart_225_normalized|smart_225_raw|smart_226_normalized|smart_226_raw|smart_231_normalized|smart_231_raw|smart_232_normalized|smart_232_raw|smart_233_normalized|smart_233_raw|smart_234_normalized|smart_234_raw|smart_235_normalized|smart_235_raw|smart_240_normalized|smart_240_raw|smart_241_normalized|smart_241_raw|smart_242_normalized|smart_242_raw|smart_245_normalized|smart_245_raw|smart_247_normalized|smart_247_raw|smart_248_normalized|smart_248_raw|smart_250_normalized|smart_250_raw|smart_251_normalized|smart_251_raw|smart_252_normalized|smart_252_raw|smart_254_normalized|smart_254_raw|smart_255_normalized|  smart_255_raw|smart_160_normalized|smart_160_raw|smart_161_normalized|smart_161_raw|smart_163_normalized|smart_163_raw|smart_164_normalized|smart_164_raw|smart_165_normalized|smart_165_raw|smart_166_normalized|smart_166_raw|smart_167_normalized|smart_167_raw|smart_169_normalized|smart_169_raw|smart_176_normalized|smart_176_raw|smart_178_normalized|smart_178_raw| rn|\n",
      "+-------------------+---------------+--------------------+--------------+-------+------------------+-----------+------------------+-----------+------------------+-----------+------------------+-----------+------------------+-----------+------------------+-----------+------------------+-----------+------------------+-----------+-------------------+------------+-------------------+------------+-------------------+------------+-------------------+------------+-------------------+------------+-------------------+------------+-------------------+------------+-------------------+------------+-------------------+------------+-------------------+------------+-------------------+------------+--------------------+-------------+--------------------+-------------+--------------------+-------------+--------------------+-------------+--------------------+-------------+--------------------+-------------+--------------------+-------------+--------------------+-------------+--------------------+-------------+--------------------+-------------+--------------------+-------------+--------------------+-------------+--------------------+-------------+--------------------+-------------+--------------------+-------------+--------------------+-------------+--------------------+-------------+--------------------+-------------+--------------------+-------------+--------------------+-------------+--------------------+-------------+--------------------+-------------+--------------------+-------------+--------------------+-------------+--------------------+-------------+--------------------+-------------+--------------------+-------------+--------------------+-------------+--------------------+-------------+--------------------+-------------+--------------------+-------------+--------------------+-------------+--------------------+-------------+--------------------+-------------+--------------------+-------------+--------------------+-------------+--------------------+-------------+--------------------+-------------+--------------------+-------------+--------------------+-------------+--------------------+-------------+--------------------+-------------+--------------------+-------------+--------------------+-------------+--------------------+-------------+--------------------+-------------+--------------------+-------------+--------------------+-------------+--------------------+-------------+--------------------+-------------+--------------------+-------------+--------------------+-------------+--------------------+---------------+--------------------+-------------+--------------------+-------------+--------------------+-------------+--------------------+-------------+--------------------+-------------+--------------------+-------------+--------------------+-------------+--------------------+-------------+--------------------+-------------+--------------------+-------------+---+\n",
      "|2013-05-21 00:00:00|      Z252A5UAS|  TOSHIBA DT01ACA300| 3000592982016|      1|                 0|          0|                 0|          0|                 0|          0|                 0|          0|                 0|          0|                 0|          0|                 0|          0|                 0|       1730|                  0|           0|                  0|           0|                  0|           0|                  0|           0|                  0|           0|                  0|           0|                  0|           0|                  0|           0|                  0|           0|                  0|           0|                  0|           0|                   0|            0|                   0|            0|                   0|            0|                   0|            0|                   0|            0|                   0|            0|                   0|            0|                   0|            0|                   0|            0|                   0|            0|                   0|            0|                   0|            0|                   0|            0|                   0|            0|                   0|            0|                   0|            0|                   0|            0|                   0|            0|                   0|            0|                   0|            0|                   0|            0|                   0|            0|                   0|            0|                   0|            0|                   0|            0|                   0|            0|                   0|            0|                   0|            0|                   0|            0|                   0|           28|                   0|            0|                   0|            0|                   0|           24|                   0|            0|                   0|            0|                   0|            0|                   0|            0|                   0|            0|                   0|            0|                   0|            0|                   0|            0|                   0|            0|                   0|            0|                   0|            0|                   0|            0|                   0|            0|                   0|            0|                   0|            0|                   0|            0|                   0|            0|                   0|            0|                   0|            0|                   0|              0|                   0|            0|                   0|            0|                   0|            0|                   0|            0|                   0|            0|                   0|            0|                   0|            0|                   0|            0|                   0|            0|                   0|            0|  1|\n",
      "|2014-09-26 00:00:00|       Z290VBMY|        ST33000651AS| 3000592982016|      1|               120|  238532300|                 0|          0|                90|          0|               100|         12|               100|          0|                78|   69799405|                 0|          0|                98|       2525|                100|           0|                  0|           0|                100|          12|                  0|           0|                  0|           0|                  0|           0|                  0|           0|                  0|           0|                  0|           0|                  0|           0|                  0|           0|                   0|            0|                   0|            0|                   0|            0|                   0|            0|                   0|            0|                   0|            0|                   0|            0|                   0|            0|                   0|            0|                   0|            0|                   0|            0|                   0|            0|                   0|            0|                   0|            0|                   0|            0|                   0|            0|                   0|            0|                   0|            0|                   0|            0|                   0|            0|                 100|            0|                 100|            0|                 100|            0|                 100|            0|                  91|            9|                  73|           27|                 100|            0|                 100|           10|                 100|           12|                  27|           27|                  34|    238532300|                   0|            0|                 100|            0|                 100|            0|                 200|            0|                   0|            0|                   0|            0|                   0|            0|                   0|            0|                   0|            0|                   0|            0|                   0|            0|                   0|            0|                   0|            0|                   0|            0|                   0|            0|                   0|            0|                   0|            0|                   0|            0|                   0|            0|                   0|            0|                   0|            0|                 100| 74431783242200|                 100|   2253029633|                 100|    203227767|                   0|            0|                   0|            0|                   0|            0|                   0|            0|                   0|            0|                   0|            0|                   0|            0|                   0|            0|  1|\n",
      "|2014-11-12 00:00:00|       Z300WDGA|         ST4000DM000| 4000787030016|      1|               111|   30568880|                 0|          0|                92|          0|               100|          9|               100|          0|                87|  563430173|                 0|          0|                93|       6865|                100|           0|                  0|           0|                100|           9|                  0|           0|                  0|           0|                  0|           0|                  0|           0|                  0|           0|                  0|           0|                  0|           0|                  0|           0|                   0|            0|                   0|            0|                   0|            0|                   0|            0|                   0|            0|                   0|            0|                   0|            0|                   0|            0|                   0|            0|                   0|            0|                   0|            0|                   0|            0|                   0|            0|                   0|            0|                   0|            0|                   0|            0|                   0|            0|                   0|            0|                   0|            0|                   0|            0|                  99|            1|                 100|            0|                  60|           40|                 100|            0|                 100|            0|                  76|           24|                 100|            0|                 100|            2|                  94|        13136|                  24|           24|                   0|            0|                   0|            0|                 100|          144|                 100|          144|                 200|            0|                   0|            0|                   0|            0|                   0|            0|                   0|            0|                   0|            0|                   0|            0|                   0|            0|                   0|            0|                   0|            0|                   0|            0|                   0|            0|                   0|            0|                   0|            0|                   0|            0|                   0|            0|                   0|            0|                   0|            0|                 100| 82514911697559|                 100|  14354780256|                 100| 117393460669|                   0|            0|                   0|            0|                   0|            0|                   0|            0|                   0|            0|                   0|            0|                   0|            0|                   0|            0|  1|\n",
      "|2015-03-09 00:00:00|WD-WCC1T1279957|        WDC WD30EFRX| 3000592982016|      1|               200|        274|                 0|          0|               189|       5541|               100|         17|               200|          0|               200|          0|                 0|          0|                85|      11508|                100|           0|                100|           0|                100|          17|                  0|           0|                  0|           0|                  0|           0|                  0|           0|                  0|           0|                  0|           0|                  0|           0|                  0|           0|                   0|            0|                   0|            0|                   0|            0|                   0|            0|                   0|            0|                   0|            0|                   0|            0|                   0|            0|                   0|            0|                   0|            0|                   0|            0|                   0|            0|                   0|            0|                   0|            0|                   0|            0|                   0|            0|                   0|            0|                   0|            0|                   0|            0|                   0|            0|                   0|            0|                   0|            0|                   0|            0|                   0|            0|                   0|            0|                   0|            0|                   0|            0|                 200|            2|                 200|           14|                 129|           21|                   0|            0|                 200|            0|                 200|            8|                 100|            0|                 200|            0|                 100|            0|                   0|            0|                   0|            0|                   0|            0|                   0|            0|                   0|            0|                   0|            0|                   0|            0|                   0|            0|                   0|            0|                   0|            0|                   0|            0|                   0|            0|                   0|            0|                   0|            0|                   0|            0|                   0|            0|                   0|              0|                   0|            0|                   0|            0|                   0|            0|                   0|            0|                   0|            0|                   0|            0|                   0|            0|                   0|            0|                   0|            0|                   0|            0|  1|\n",
      "|2015-05-19 00:00:00|       Z3016PMP|         ST4000DM000| 4000787030016|      1|               110|   27507120|                 0|          0|                91|          0|               100|         25|               100|          0|                88|  763584829|                 0|          0|                89|      10503|                100|           0|                  0|           0|                100|          25|                  0|           0|                  0|           0|                  0|           0|                  0|           0|                  0|           0|                  0|           0|                  0|           0|                  0|           0|                   0|            0|                   0|            0|                   0|            0|                   0|            0|                   0|            0|                   0|            0|                   0|            0|                   0|            0|                   0|            0|                   0|            0|                   0|            0|                   0|            0|                   0|            0|                   0|            0|                   0|            0|                   0|            0|                   0|            0|                   0|            0|                   0|            0|                   0|            0|                 100|            0|                 100|            0|                  99|            1|                 100|            1|                  85|           15|                  75|           25|                 100|            0|                 100|           14|                  90|        21940|                  25|           25|                   0|            0|                   0|            0|                 100|           40|                 100|           40|                 200|            5|                   0|            0|                   0|            0|                   0|            0|                   0|            0|                   0|            0|                   0|            0|                   0|            0|                   0|            0|                   0|            0|                   0|            0|                   0|            0|                   0|            0|                   0|            0|                   0|            0|                   0|            0|                   0|            0|                   0|            0|                 100|          10417|                 100|  17491581437|                 100| 178114543221|                   0|            0|                   0|            0|                   0|            0|                   0|            0|                   0|            0|                   0|            0|                   0|            0|                   0|            0|  1|\n",
      "|2016-03-01 00:00:00|       Z1Z03F39|         ST4000DX000| 4000787030016|      1|               105|    8459358|                 0|          0|                90|          0|               100|         25|               100|          0|                96| 3901640554|                 0|          0|                70|      26593|                100|           0|                  0|           0|                100|          25|                  0|           0|                  0|           0|                  0|           0|                  0|           0|                  0|           0|                  0|           0|                  0|           0|                  0|           0|                   0|            0|                   0|            0|                   0|            0|                   0|            0|                   0|            0|                   0|            0|                   0|            0|                   0|            0|                   0|            0|                   0|            0|                   0|            0|                   0|            0|                   0|            0|                   0|            0|                   0|            0|                   0|            0|                   0|            0|                   0|            0|                   0|            0|                   0|            0|                 100|            0|                 100|            0|                 100|            0|                 100|            0|                  97|            3|                  72|           28|                 100|            0|                 100|           11|                 100|           25|                  28|           28|                  60|      8459358|                   0|            0|                 100|            0|                 100|            0|                 200|            0|                   0|            0|                   0|            0|                   0|            0|                   0|            0|                   0|            0|                   0|            0|                   0|            0|                   0|            0|                   0|            0|                   0|            0|                   0|            0|                   0|            0|                   0|            0|                   0|            0|                   0|            0|                   0|            0|                   0|            0|                 100|  4436701243362|                 100|  28428216548|                 100| 154854104433|                   0|            0|                   0|            0|                   0|            0|                   0|            0|                   0|            0|                   0|            0|                   0|            0|                   0|            0|  1|\n",
      "|2017-08-11 00:00:00|       W4J0GESK|         ST4000DM001| 4000787030016|      1|               118|  178388056|                 0|          0|                96|          0|               100|          4|               100|          0|                78|   82718840|                 0|          0|                99|       1675|                100|           0|                  0|           0|                100|           4|                  0|           0|                  0|           0|                  0|           0|                  0|           0|                  0|           0|                  0|           0|                  0|           0|                  0|           0|                   0|            0|                   0|            0|                   0|            0|                   0|            0|                   0|            0|                   0|            0|                   0|            0|                   0|            0|                   0|            0|                   0|            0|                   0|            0|                   0|            0|                   0|            0|                   0|            0|                   0|            0|                   0|            0|                   0|            0|                   0|            0|                   0|            0|                   0|            0|                 100|            0|                 100|            0|                 100|            0|                 100|            1|                 100|            0|                  66|           34|                 100|            0|                 100|            0|                  89|        22909|                  34|           34|                 118|    178388056|                   0|            0|                 100|            0|                 100|            0|                 200|            0|                   0|            0|                   0|            0|                   0|            0|                   0|            0|                   0|            0|                   0|            0|                   0|            0|                   0|            0|                   0|            0|                   0|            0|                   0|            0|                   0|            0|                   0|            0|                   0|            0|                   0|            0|                   0|            0|                   0|            0|                 100|           1540|                 100|   3218389752|                 100|    375934999|                   0|            0|                   0|            0|                   0|            0|                   0|            0|                   0|            0|                   0|            0|                   0|            0|                   0|            0|  1|\n",
      "|2017-09-11 00:00:00|       Z1Z03CD0|         ST4000DX000| 4000787030016|      1|               110|   28492355|                 0|          0|                90|          0|               100|         49|               100|          0|                91| 5783542762|                 0|          0|                55|      40001|                100|           0|                  0|           0|                100|          50|                  0|           0|                  0|           0|                  0|           0|                  0|           0|                  0|           0|                  0|           0|                  0|           0|                  0|           0|                   0|            0|                   0|            0|                   0|            0|                   0|            0|                   0|            0|                   0|            0|                   0|            0|                   0|            0|                   0|            0|                   0|            0|                   0|            0|                   0|            0|                   0|            0|                   0|            0|                   0|            0|                   0|            0|                   0|            0|                   0|            0|                   0|            0|                   0|            0|                   8|           92|                 100|            0|                 100|            0|                 100|           86|                  99|            1|                  75|           25|                 100|            0|                 100|           14|                 100|           50|                  25|           25|                  29|     28492355|                   0|            0|                 100|            0|                 100|            0|                 200|            9|                   0|            0|                   0|            0|                   0|            0|                   0|            0|                   0|            0|                   0|            0|                   0|            0|                   0|            0|                   0|            0|                   0|            0|                   0|            0|                   0|            0|                   0|            0|                   0|            0|                   0|            0|                   0|            0|                   0|            0|                 100| 11373073439811|                 100|  30811547508|                 100| 280055916217|                   0|            0|                   0|            0|                   0|            0|                   0|            0|                   0|            0|                   0|            0|                   0|            0|                   0|            0|  1|\n",
      "|2018-05-28 00:00:00|       Z300JE19|         ST4000DM000| 4000787030016|      1|               115|   95188464|                 0|          0|                91|          0|               100|         11|               100|          0|                84|  299944796|                 0|          0|                53|      41311|                100|           0|                  0|           0|                100|          11|                  0|           0|                  0|           0|                  0|           0|                  0|           0|                  0|           0|                  0|           0|                  0|           0|                  0|           0|                   0|            0|                   0|            0|                   0|            0|                   0|            0|                   0|            0|                   0|            0|                   0|            0|                   0|            0|                   0|            0|                   0|            0|                   0|            0|                   0|            0|                   0|            0|                   0|            0|                   0|            0|                   0|            0|                   0|            0|                   0|            0|                   0|            0|                   0|            0|                 100|            0|                 100|            0|                 100|            0|                 100|            0|                  81|           19|                  76|           24|                 100|            0|                 100|            3|                  85|        31586|                  24|           24|                   0|            0|                   0|            0|                 100|            0|                 100|            0|                 200|            0|                   0|            0|                   0|            0|                   0|            0|                   0|            0|                   0|            0|                   0|            0|                   0|            0|                   0|            0|                   0|            0|                   0|            0|                   0|            0|                   0|            0|                   0|            0|                   0|            0|                   0|            0|                   0|            0|                   0|            0|                 100|          41199|                 100|  30212614098|                 100| 168204376365|                   0|            0|                   0|            0|                   0|            0|                   0|            0|                   0|            0|                   0|            0|                   0|            0|                   0|            0|  1|\n",
      "|2018-08-10 00:00:00|WD-WX41D94RN65K|        WDC WD60EFRX| 6001175126016|      1|               198|         97|                 0|          0|               202|       8858|               100|         12|               200|          0|               100|          0|                 0|          0|                58|      31244|                100|           0|                100|           0|                100|          12|                  0|           0|                  0|           0|                  0|           0|                  0|           0|                  0|           0|                  0|           0|                  0|           0|                  0|           0|                   0|            0|                   0|            0|                   0|            0|                   0|            0|                   0|            0|                   0|            0|                   0|            0|                   0|            0|                   0|            0|                   0|            0|                   0|            0|                   0|            0|                   0|            0|                   0|            0|                   0|            0|                   0|            0|                   0|            0|                   0|            0|                   0|            0|                   0|            0|                   0|            0|                   0|            0|                   0|            0|                   0|            0|                   0|            0|                   0|            0|                   0|            0|                 200|            0|                 200|         1091|                 127|           25|                   0|            0|                 200|            0|                 200|            2|                 100|            0|                 200|            0|                 100|            0|                   0|            0|                   0|            0|                   0|            0|                   0|            0|                   0|            0|                   0|            0|                   0|            0|                   0|            0|                   0|            0|                   0|            0|                   0|            0|                   0|            0|                   0|            0|                   0|            0|                   0|            0|                   0|            0|                   0|              0|                   0|            0|                   0|            0|                   0|            0|                   0|            0|                   0|            0|                   0|            0|                   0|            0|                   0|            0|                   0|            0|                   0|            0|  1|\n",
      "|2019-05-08 00:00:00|       S300Z8P7|         ST4000DM000| 4000787030016|      1|               116|  110876712|                 0|          0|                92|          0|               100|         11|               100|          0|                88|  744933617|                 0|          0|                62|      33748|                100|           0|                  0|           0|                100|          11|                  0|           0|                  0|           0|                  0|           0|                  0|           0|                  0|           0|                  0|           0|                  0|           0|                  0|           0|                   0|            0|                   0|            0|                   0|            0|                   0|            0|                   0|            0|                   0|            0|                   0|            0|                   0|            0|                   0|            0|                   0|            0|                   0|            0|                   0|            0|                   0|            0|                   0|            0|                   0|            0|                   0|            0|                   0|            0|                   0|            0|                   0|            0|                   0|            0|                 100|            0|                 100|            0|                 100|            0|                 100|            0|                 100|            0|                  84|           16|                 100|            0|                 100|            1|                  82|        37466|                  16|           16|                   0|            0|                   0|            0|                 100|            0|                 100|            0|                 200|            0|                   0|            0|                   0|            0|                   0|            0|                   0|            0|                   0|            0|                   0|            0|                   0|            0|                   0|            0|                   0|            0|                   0|            0|                   0|            0|                   0|            0|                   0|            0|                   0|            0|                   0|            0|                   0|            0|                   0|            0|                 100|          33444|                 100|  58036654608|                 100| 140337036290|                   0|            0|                   0|            0|                   0|            0|                   0|            0|                   0|            0|                   0|            0|                   0|            0|                   0|            0|  1|\n",
      "|2019-06-04 00:00:00|       ZA18198G|        ST8000NM0055| 8001563222016|      1|                82|  164241760|                 0|          0|                89|          0|               100|         11|               100|         40|                85|  328064770|                 0|          0|                83|      15451|                100|           0|                  0|           0|                100|          11|                  0|           0|                  0|           0|                  0|           0|                  0|           0|                  0|           0|                  0|           0|                  0|           0|                  0|           0|                   0|            0|                   0|            0|                   0|            0|                   0|            0|                   0|            0|                   0|            0|                   0|            0|                   0|            0|                   0|            0|                   0|            0|                   0|            0|                   0|            0|                   0|            0|                   0|            0|                   0|            0|                   0|            0|                   0|            0|                   0|            0|                   0|            0|                   0|            0|                   0|            0|                 100|            0|                 100|            0|                 100|            0|                 100|            0|                  54|           46|                  97|         6396|                 100|           45|                  96|         8667|                  46|           46|                  82|    164241760|                   0|            0|                 100|            0|                 100|            0|                 200|            0|                   0|            0|                   0|            0|                   0|            0|                   0|            0|                   0|            0|                   0|            0|                   0|            0|                   0|            0|                   0|            0|                   0|            0|                   0|            0|                   0|            0|                   0|            0|                   0|            0|                   0|            0|                   0|            0|                   0|            0|                 100|          15433|                 100|  46215007304|                 100| 100735477584|                   0|            0|                   0|            0|                   0|            0|                   0|            0|                   0|            0|                   0|            0|                   0|            0|                   0|            0|  1|\n",
      "|2020-08-24 00:00:00|       ZA154CDD|        ST8000NM0055| 8001563222016|      1|                83|  216218104|                 0|          0|                88|          0|               100|          6|               100|        104|                94| 2650569751|                 0|          0|                69|      27959|                100|           0|                  0|           0|                100|           6|                  0|           0|                  0|           0|                  0|           0|                  0|           0|                  0|           0|                  0|           0|                  0|           0|                  0|           0|                   0|            0|                   0|            0|                   0|            0|                   0|            0|                   0|            0|                   0|            0|                   0|            0|                   0|            0|                   0|            0|                   0|            0|                   0|            0|                   0|            0|                   0|            0|                   0|            0|                   0|            0|                   0|            0|                   0|            0|                   0|            0|                   0|            0|                   0|            0|                   0|            0|                 100|            0|                 100|            0|                 100|            0|                 100|            0|                  70|           30|                  96|         9565|                 100|           20|                 100|           88|                  30|           30|                  21|    216218104|                   0|            0|                 100|            0|                 100|            0|                 200|            0|                   0|            0|                   0|            0|                   0|            0|                   0|            0|                   0|            0|                   0|            0|                   0|            0|                   0|            0|                   0|            0|                   0|            0|                   0|            0|                   0|            0|                   0|            0|                   0|            0|                   0|            0|                   0|            0|                   0|            0|                 100|          27951|                 100|  66242106824|                 100| 209878065392|                   0|            0|                   0|            0|                   0|            0|                   0|            0|                   0|            0|                   0|            0|                   0|            0|                   0|            0|  1|\n",
      "|2021-01-27 00:00:00|       ZCH0AJ5G|       ST12000NM0007|12000138625024|      1|                76|   36596960|                 0|          0|                89|          0|               100|         24|                76|      32960|                89|  807496584|                 0|          0|                78|      20011|                100|           0|                  0|           0|                100|          24|                  0|           0|                  0|           0|                  0|           0|                  0|           0|                  0|           0|                  0|           0|                  0|           0|                  0|           0|                   0|            0|                   0|            0|                   0|            0|                   0|            0|                   0|            0|                   0|            0|                   0|            0|                   0|            0|                   0|            0|                   0|            0|                   0|            0|                   0|            0|                   0|            0|                   0|            0|                   0|            0|                   0|            0|                   0|            0|                   0|            0|                   0|            0|                   0|            0|                   0|            0|                   0|            0|                   1|          346|                 100|            0|                   0|            0|                  76|           24|                   0|            0|                 100|          378|                  99|         2224|                  24|           24|                  76|     36596960|                   0|            0|                 100|            0|                 100|            0|                 200|            0|                 100|            0|                   0|            0|                   0|            0|                   0|            0|                   0|            0|                   0|            0|                   0|            0|                   0|            0|                   0|            0|                   0|            0|                   0|            0|                   0|            0|                   0|            0|                   0|            0|                   0|            0|                   0|            0|                   0|            0|                 100|          19478|                 100|  46338368760|                 100| 181725977958|                   0|            0|                   0|            0|                   0|            0|                   0|            0|                   0|            0|                   0|            0|                   0|            0|                   0|            0|  1|\n",
      "|2021-06-22 00:00:00|   1090A02QF9RG|TOSHIBA MG07ACA14TEY|14000519643136|      1|               100|          0|               100|          0|               100|       6886|               100|         32|                96|       3240|               100|          0|               100|          0|                88|       5031|                100|           0|                  0|           0|                100|          32|                  0|           0|                  0|           0|                  0|           0|                  0|           0|                  0|           0|                  0|           0|                100|           0|                100|           0|                   0|            0|                   0|            0|                   0|            0|                   0|            0|                   0|            0|                   0|            0|                   0|            0|                   0|            0|                   0|            0|                   0|            0|                   0|            0|                   0|            0|                   0|            0|                   0|            0|                   0|            0|                   0|            0|                   0|            0|                   0|            0|                   0|            0|                   0|            0|                   0|            0|                   0|            0|                   0|            0|                   0|            0|                   0|            0|                   0|            0|                   0|            0|                 100|           31|                 100|          476|                 100|           23|                   0|            0|                 100|          370|                   0|            0|                 100|            0|                 200|            0|                   0|            0|                   0|            0|                   0|            0|                   0|            0|                   0|            0|                   0|            0|                   0|            0|                   0|            0|                   0|            0|                   0|            0|                   0|            0|                   0|            0|                   0|            0|                   0|            0|                   0|            0|                   0|            0|                   0|            0|                   0|              0|                 100|  50261284518|                 100|  53473249332|                   0|            0|                   0|            0|                   0|            0|                   0|            0|                   0|            0|                   0|            0|                   0|            0|                   0|            0|  1|\n",
      "|2021-08-27 00:00:00|   6150A008F97G| TOSHIBA MG07ACA14TA|14000519643136|      1|               100|          0|               100|          0|               100|       7856|               100|          2|               100|          0|               100|          0|               100|          0|                99|        642|                100|           0|                  0|           0|                100|           2|                  0|           0|                  0|           0|                  0|           0|                  0|           0|                  0|           0|                  0|           0|                100|           0|                100|           0|                   0|            0|                   0|            0|                   0|            0|                   0|            0|                   0|            0|                   0|            0|                   0|            0|                   0|            0|                   0|            0|                   0|            0|                   0|            0|                   0|            0|                   0|            0|                   0|            0|                   0|            0|                   0|            0|                   0|            0|                   0|            0|                   0|            0|                   0|            0|                   0|            0|                   0|            0|                   0|            0|                   0|            0|                   0|            0|                   0|            0|                 100|            1|                 100|            1|                 100|           63|                 100|           26|                   0|            0|                 100|            0|                 100|            0|                 100|            0|                 200|            0|                   0|            0|                   0|            0|                   0|            0|                   0|            0|                   0|            0|                   0|            0|                 100|       393243|                  99|          593|                 100|            0|                 100|            0|                   0|            0|                 100|          538|                   0|            0|                   0|            0|                   0|            0|                   0|            0|                   0|            0|                 100|              0|                   0|            0|                   0|            0|                   0|            0|                   0|            0|                   0|            0|                   0|            0|                   0|            0|                   0|            0|                   0|            0|                   0|            0|  1|\n",
      "|2015-03-06 00:00:00|WD-WCAV39090455|       WDC WD800AAJB|   80026361856|      1|               200|          0|                 0|          0|               136|       4175|               100|         36|               200|          0|               100|          0|                 0|          0|                48|      38610|                100|           0|                100|           0|                100|          34|                  0|           0|                  0|           0|                  0|           0|                  0|           0|                  0|           0|                  0|           0|                  0|           0|                  0|           0|                   0|            0|                   0|            0|                   0|            0|                   0|            0|                   0|            0|                   0|            0|                   0|            0|                   0|            0|                   0|            0|                   0|            0|                   0|            0|                   0|            0|                   0|            0|                   0|            0|                   0|            0|                   0|            0|                   0|            0|                   0|            0|                   0|            0|                   0|            0|                   0|            0|                   0|            0|                   0|            0|                   0|            0|                   0|            0|                   0|            0|                   0|            0|                 200|           21|                 200|           36|                 105|           38|                   0|            0|                 200|            0|                 200|            0|                 200|            0|                 200|            0|                 200|            0|                   0|            0|                   0|            0|                   0|            0|                   0|            0|                   0|            0|                   0|            0|                   0|            0|                   0|            0|                   0|            0|                   0|            0|                   0|            0|                   0|            0|                   0|            0|                   0|            0|                   0|            0|                   0|            0|                   0|              0|                   0|            0|                   0|            0|                   0|            0|                   0|            0|                   0|            0|                   0|            0|                   0|            0|                   0|            0|                   0|            0|                   0|            0|  1|\n",
      "|2016-04-25 00:00:00|WD-WCAV3E974559|       WDC WD800AAJS|   80026361856|      1|               200|          0|                 0|          0|               133|       4325|               100|         68|               200|          0|               200|          0|                 0|          0|                51|      36023|                100|           0|                100|           0|                100|          67|                  0|           0|                  0|           0|                  0|           0|                  0|           0|                  0|           0|                  0|           0|                  0|           0|                  0|           0|                   0|            0|                   0|            0|                   0|            0|                   0|            0|                   0|            0|                   0|            0|                   0|            0|                   0|            0|                   0|            0|                   0|            0|                   0|            0|                   0|            0|                   0|            0|                   0|            0|                   0|            0|                   0|            0|                   0|            0|                   0|            0|                   0|            0|                   0|            0|                   0|            0|                   0|            0|                   0|            0|                   0|            0|                   0|            0|                   0|            0|                   0|            0|                 200|            7|                 200|           68|                 116|           27|                   0|            0|                 200|            0|                 200|            0|                 200|            0|                 200|            0|                 200|            0|                   0|            0|                   0|            0|                   0|            0|                   0|            0|                   0|            0|                   0|            0|                   0|            0|                   0|            0|                   0|            0|                   0|            0|                   0|            0|                   0|            0|                   0|            0|                   0|            0|                   0|            0|                   0|            0|                   0|              0|                   0|            0|                   0|            0|                   0|            0|                   0|            0|                   0|            0|                   0|            0|                   0|            0|                   0|            0|                   0|            0|                   0|            0|  1|\n",
      "|2017-01-06 00:00:00|      66GHS5NDS|  TOSHIBA MQ01ABF050|  500107862016|      1|               100|          0|               100|          0|               100|       1337|               100|          5|               100|          0|               100|          0|               100|          0|                96|       1670|                100|           0|                  0|           0|                100|           5|                  0|           0|                  0|           0|                  0|           0|                  0|           0|                  0|           0|                  0|           0|                  0|           0|                  0|           0|                   0|            0|                   0|            0|                   0|            0|                   0|            0|                   0|            0|                   0|            0|                   0|            0|                   0|            0|                   0|            0|                   0|            0|                   0|            0|                   0|            0|                   0|            0|                   0|            0|                   0|            0|                   0|            0|                   0|            0|                   0|            0|                   0|            0|                   0|            0|                   0|            0|                   0|            0|                   0|            0|                   0|            0|                   0|            0|                   0|            0|                 100|            0|                 100|            0|                 100|         8134|                 100|           35|                   0|            0|                 100|            0|                 100|            0|                 100|            0|                 200|            0|                   0|            0|                   0|            0|                   0|            0|                   0|            0|                   0|            0|                   0|            0|                 100|            0|                  96|         1645|                 100|            0|                 100|            0|                   0|            0|                 100|          264|                   0|            0|                   0|            0|                   0|            0|                   0|            0|                   0|            0|                 100|              0|                   0|            0|                   0|            0|                   0|            0|                   0|            0|                   0|            0|                   0|            0|                   0|            0|                   0|            0|                   0|            0|                   0|            0|  1|\n",
      "|2018-03-17 00:00:00|       ZA1393ZG|        ST8000NM0055| 8001563222016|      1|                84|  231942000|                 0|          0|                92|          0|               100|          6|               100|          0|                74|   25185830|                 0|          0|               100|         73|                100|           0|                  0|           0|                100|           6|                  0|           0|                  0|           0|                  0|           0|                  0|           0|                  0|           0|                  0|           0|                  0|           0|                  0|           0|                   0|            0|                   0|            0|                   0|            0|                   0|            0|                   0|            0|                   0|            0|                   0|            0|                   0|            0|                   0|            0|                   0|            0|                   0|            0|                   0|            0|                   0|            0|                   0|            0|                   0|            0|                   0|            0|                   0|            0|                   0|            0|                   0|            0|                   0|            0|                   0|            0|                 100|            0|                 100|            0|                 100|            0|                 100|            0|                  69|           31|                 100|          287|                 100|            2|                 100|           77|                  31|           31|                  84|    231942000|                   0|            0|                 100|            0|                 100|            0|                 200|            0|                   0|            0|                   0|            0|                   0|            0|                   0|            0|                   0|            0|                   0|            0|                   0|            0|                   0|            0|                   0|            0|                   0|            0|                   0|            0|                   0|            0|                   0|            0|                   0|            0|                   0|            0|                   0|            0|                   0|            0|                 100|160515812753477|                 100|   4707594648|                 100|     52924514|                   0|            0|                   0|            0|                   0|            0|                   0|            0|                   0|            0|                   0|            0|                   0|            0|                   0|            0|  1|\n",
      "+-------------------+---------------+--------------------+--------------+-------+------------------+-----------+------------------+-----------+------------------+-----------+------------------+-----------+------------------+-----------+------------------+-----------+------------------+-----------+------------------+-----------+-------------------+------------+-------------------+------------+-------------------+------------+-------------------+------------+-------------------+------------+-------------------+------------+-------------------+------------+-------------------+------------+-------------------+------------+-------------------+------------+-------------------+------------+--------------------+-------------+--------------------+-------------+--------------------+-------------+--------------------+-------------+--------------------+-------------+--------------------+-------------+--------------------+-------------+--------------------+-------------+--------------------+-------------+--------------------+-------------+--------------------+-------------+--------------------+-------------+--------------------+-------------+--------------------+-------------+--------------------+-------------+--------------------+-------------+--------------------+-------------+--------------------+-------------+--------------------+-------------+--------------------+-------------+--------------------+-------------+--------------------+-------------+--------------------+-------------+--------------------+-------------+--------------------+-------------+--------------------+-------------+--------------------+-------------+--------------------+-------------+--------------------+-------------+--------------------+-------------+--------------------+-------------+--------------------+-------------+--------------------+-------------+--------------------+-------------+--------------------+-------------+--------------------+-------------+--------------------+-------------+--------------------+-------------+--------------------+-------------+--------------------+-------------+--------------------+-------------+--------------------+-------------+--------------------+-------------+--------------------+-------------+--------------------+-------------+--------------------+-------------+--------------------+-------------+--------------------+-------------+--------------------+-------------+--------------------+-------------+--------------------+-------------+--------------------+-------------+--------------------+---------------+--------------------+-------------+--------------------+-------------+--------------------+-------------+--------------------+-------------+--------------------+-------------+--------------------+-------------+--------------------+-------------+--------------------+-------------+--------------------+-------------+--------------------+-------------+---+\n",
      "only showing top 20 rows\n",
      "\n"
     ]
    }
   ],
   "source": [
    "df2.show()"
   ]
  },
  {
   "cell_type": "code",
   "execution_count": 34,
   "metadata": {},
   "outputs": [],
   "source": [
    "#4. data3=merge data1 & data2\n",
    "\n",
    "df3 = df1.union(df2)"
   ]
  },
  {
   "cell_type": "code",
   "execution_count": 31,
   "metadata": {},
   "outputs": [
    {
     "data": {
      "text/plain": [
       "69312"
      ]
     },
     "execution_count": 31,
     "metadata": {},
     "output_type": "execute_result"
    }
   ],
   "source": [
    "df3.count()"
   ]
  },
  {
   "cell_type": "code",
   "execution_count": null,
   "metadata": {},
   "outputs": [],
   "source": [
    "#1. data1= create diffrent dataset for 1 failure from df (TABLE ml_smart_data_view)\n",
    "#2. check the timeframe for Filter 1 is all are added in 0 time line of each hourse LET ME KNOW THE TIME FRAME \n",
    "#3. data2= create diffrent dataset for 0 failure from df (TABLE ml_smart_data_view) where time line is 0 for each hourse 1 entry where failure = 0\n",
    "#4. data3=merge data1 & data2\n",
    "#5. data3 should be in deffrent table it shout stream automaticaly (data3 will be used for ML model)"
   ]
  },
  {
   "cell_type": "code",
   "execution_count": null,
   "metadata": {},
   "outputs": [],
   "source": [
    "# sample code to filter 0 time frame data in each houre\n",
    "\n",
    "#dataset10 = pd.read_sql('''select process_date, serial_number, model from events1.disk_smartdata_dtls where extract (hour from process_date) || \":\" || extract (minute from process_date) in ('1:0', '2:0', '3:0')''', conn)\n",
    "#dataset10 = pd.read_sql('''select process_date, serial_number, model from events1.disk_smartdata_dtls where extract (minute from process_date) in ('0')  limit 10''', conn)\n",
    "#dataset10 = pd.read_sql('''select process_date, serial_number, model from events1.disk_smartdata_dtls where extract (minute from process_date) in ('0')''', conn)\n",
    "#dataset10"
   ]
  },
  {
   "cell_type": "code",
   "execution_count": null,
   "metadata": {},
   "outputs": [],
   "source": [
    "#### order by df in decenting oder using process_date column\n",
    "df"
   ]
  }
 ],
 "metadata": {
  "kernelspec": {
   "display_name": "Python 3",
   "language": "python",
   "name": "python3"
  },
  "language_info": {
   "codemirror_mode": {
    "name": "ipython",
    "version": 3
   },
   "file_extension": ".py",
   "mimetype": "text/x-python",
   "name": "python",
   "nbconvert_exporter": "python",
   "pygments_lexer": "ipython3",
   "version": "3.6.8"
  }
 },
 "nbformat": 4,
 "nbformat_minor": 4
}
